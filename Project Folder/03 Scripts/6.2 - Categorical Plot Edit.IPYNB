{
 "cells": [
  {
   "cell_type": "raw",
   "id": "e0a1f38d",
   "metadata": {},
   "source": [
    "This notebook contains the following:\n",
    "'#01 - Importing Libraries\n",
    "'#02 - Importing Data\n",
    "'#03 - Data Cleaning\n",
    "'#04 - Create Categorical Plot"
   ]
  },
{
 "cells": [
  {
   "cell_type": "markdown",
   "id": "4accba69",
   "metadata": {},
   "source": [
    "# 01 - Import Libraries"
   ]
  },
  {
   "cell_type": "code",
   "execution_count": 1,
   "id": "3206d72e",
   "metadata": {},
   "outputs": [],
   "source": [
    "# Import Libraries\n",
    "import pandas as pd\n",
    "import numpy as np\n",
    "import os\n",
    "import seaborn as sns\n",
    "import matplotlib.pyplot as plt\n",
    "import matplotlib"
   ]
  },
  {
   "cell_type": "markdown",
   "id": "9ec562ab",
   "metadata": {},
   "source": [
    "# 02 - Import Data"
   ]
  },
  {
   "cell_type": "code",
   "execution_count": 2,
   "id": "6c32e4e2",
   "metadata": {},
   "outputs": [],
   "source": [
    "# import three data sets\n",
    "path = r'C:\\Users\\jakey\\OneDrive\\Documents\\Data Analytics\\CareerFoundry\\Data Immersion\\Achievement 6\\Project Folder'"
   ]
  },
  {
   "cell_type": "code",
   "execution_count": 3,
   "id": "e24804a5",
   "metadata": {},
   "outputs": [],
   "source": [
    "# import playerbio\n",
    "df_2008 = pd.read_csv(os.path.join(path, '02 Data', 'Prepared Data', '2008.csv'), index_col = False)"
   ]
  },
  {
   "cell_type": "markdown",
   "id": "b61aec56",
   "metadata": {},
   "source": [
    "# 03 - Check DF"
   ]
  },
  {
   "cell_type": "code",
   "execution_count": 4,
   "id": "85c1a88b",
   "metadata": {},
   "outputs": [
    {
     "name": "stdout",
     "output_type": "stream",
     "text": [
      "<class 'pandas.core.frame.DataFrame'>\n",
      "RangeIndex: 358 entries, 0 to 357\n",
      "Data columns (total 20 columns):\n",
      " #   Column           Non-Null Count  Dtype  \n",
      "---  ------           --------------  -----  \n",
      " 0   Unnamed: 0       358 non-null    int64  \n",
      " 1   playerId         358 non-null    int64  \n",
      " 2   season           358 non-null    int64  \n",
      " 3   first_name       358 non-null    object \n",
      " 4   last_name        358 non-null    object \n",
      " 5   team             358 non-null    object \n",
      " 6   position         358 non-null    object \n",
      " 7   games_played     358 non-null    int64  \n",
      " 8   icetime          358 non-null    int64  \n",
      " 9   gameScore        333 non-null    float64\n",
      " 10  year             358 non-null    int64  \n",
      " 11  month            358 non-null    int64  \n",
      " 12  day              358 non-null    int64  \n",
      " 13  weight           358 non-null    int64  \n",
      " 14  height           358 non-null    int64  \n",
      " 15  nationality      358 non-null    object \n",
      " 16  shootsCatches    358 non-null    object \n",
      " 17  primaryNumber    358 non-null    int64  \n",
      " 18  _merge           358 non-null    object \n",
      " 19  Weight category  358 non-null    object \n",
      "dtypes: float64(1), int64(11), object(8)\n",
      "memory usage: 56.1+ KB\n"
     ]
    }
   ],
   "source": [
    "df_2008.info()"
   ]
  },
  {
   "cell_type": "code",
   "execution_count": 5,
   "id": "e10221c8",
   "metadata": {},
   "outputs": [
    {
     "data": {
      "text/html": [
       "<div>\n",
       "<style scoped>\n",
       "    .dataframe tbody tr th:only-of-type {\n",
       "        vertical-align: middle;\n",
       "    }\n",
       "\n",
       "    .dataframe tbody tr th {\n",
       "        vertical-align: top;\n",
       "    }\n",
       "\n",
       "    .dataframe thead th {\n",
       "        text-align: right;\n",
       "    }\n",
       "</style>\n",
       "<table border=\"1\" class=\"dataframe\">\n",
       "  <thead>\n",
       "    <tr style=\"text-align: right;\">\n",
       "      <th></th>\n",
       "      <th>Unnamed: 0</th>\n",
       "      <th>playerId</th>\n",
       "      <th>season</th>\n",
       "      <th>first_name</th>\n",
       "      <th>last_name</th>\n",
       "      <th>team</th>\n",
       "      <th>position</th>\n",
       "      <th>games_played</th>\n",
       "      <th>icetime</th>\n",
       "      <th>gameScore</th>\n",
       "      <th>year</th>\n",
       "      <th>month</th>\n",
       "      <th>day</th>\n",
       "      <th>weight</th>\n",
       "      <th>height</th>\n",
       "      <th>nationality</th>\n",
       "      <th>shootsCatches</th>\n",
       "      <th>primaryNumber</th>\n",
       "      <th>_merge</th>\n",
       "      <th>Weight category</th>\n",
       "    </tr>\n",
       "  </thead>\n",
       "  <tbody>\n",
       "    <tr>\n",
       "      <th>0</th>\n",
       "      <td>0</td>\n",
       "      <td>8471709</td>\n",
       "      <td>2008</td>\n",
       "      <td>Marc-Edouard</td>\n",
       "      <td>Vlasic</td>\n",
       "      <td>S.J</td>\n",
       "      <td>D</td>\n",
       "      <td>6</td>\n",
       "      <td>7435</td>\n",
       "      <td>0.72</td>\n",
       "      <td>1987</td>\n",
       "      <td>3</td>\n",
       "      <td>30</td>\n",
       "      <td>205</td>\n",
       "      <td>73</td>\n",
       "      <td>CAN</td>\n",
       "      <td>L</td>\n",
       "      <td>44</td>\n",
       "      <td>both</td>\n",
       "      <td>Middleweight</td>\n",
       "    </tr>\n",
       "    <tr>\n",
       "      <th>1</th>\n",
       "      <td>10</td>\n",
       "      <td>8465978</td>\n",
       "      <td>2008</td>\n",
       "      <td>Shawn</td>\n",
       "      <td>Thornton</td>\n",
       "      <td>BOS</td>\n",
       "      <td>L</td>\n",
       "      <td>10</td>\n",
       "      <td>5465</td>\n",
       "      <td>1.71</td>\n",
       "      <td>1977</td>\n",
       "      <td>7</td>\n",
       "      <td>23</td>\n",
       "      <td>217</td>\n",
       "      <td>74</td>\n",
       "      <td>CAN</td>\n",
       "      <td>R</td>\n",
       "      <td>22</td>\n",
       "      <td>both</td>\n",
       "      <td>Middleweight</td>\n",
       "    </tr>\n",
       "    <tr>\n",
       "      <th>2</th>\n",
       "      <td>17</td>\n",
       "      <td>8473563</td>\n",
       "      <td>2008</td>\n",
       "      <td>Nicklas</td>\n",
       "      <td>Backstrom</td>\n",
       "      <td>WSH</td>\n",
       "      <td>C</td>\n",
       "      <td>14</td>\n",
       "      <td>18197</td>\n",
       "      <td>15.04</td>\n",
       "      <td>1987</td>\n",
       "      <td>11</td>\n",
       "      <td>23</td>\n",
       "      <td>210</td>\n",
       "      <td>73</td>\n",
       "      <td>SWE</td>\n",
       "      <td>L</td>\n",
       "      <td>19</td>\n",
       "      <td>both</td>\n",
       "      <td>Middleweight</td>\n",
       "    </tr>\n",
       "    <tr>\n",
       "      <th>3</th>\n",
       "      <td>30</td>\n",
       "      <td>8471426</td>\n",
       "      <td>2008</td>\n",
       "      <td>Troy</td>\n",
       "      <td>Brouwer</td>\n",
       "      <td>CHI</td>\n",
       "      <td>R</td>\n",
       "      <td>17</td>\n",
       "      <td>12085</td>\n",
       "      <td>3.62</td>\n",
       "      <td>1985</td>\n",
       "      <td>8</td>\n",
       "      <td>17</td>\n",
       "      <td>213</td>\n",
       "      <td>75</td>\n",
       "      <td>CAN</td>\n",
       "      <td>R</td>\n",
       "      <td>22</td>\n",
       "      <td>both</td>\n",
       "      <td>Middleweight</td>\n",
       "    </tr>\n",
       "    <tr>\n",
       "      <th>4</th>\n",
       "      <td>39</td>\n",
       "      <td>8468498</td>\n",
       "      <td>2008</td>\n",
       "      <td>Brooks</td>\n",
       "      <td>Orpik</td>\n",
       "      <td>PIT</td>\n",
       "      <td>D</td>\n",
       "      <td>23</td>\n",
       "      <td>27779</td>\n",
       "      <td>5.05</td>\n",
       "      <td>1980</td>\n",
       "      <td>9</td>\n",
       "      <td>26</td>\n",
       "      <td>217</td>\n",
       "      <td>75</td>\n",
       "      <td>USA</td>\n",
       "      <td>L</td>\n",
       "      <td>44</td>\n",
       "      <td>both</td>\n",
       "      <td>Middleweight</td>\n",
       "    </tr>\n",
       "  </tbody>\n",
       "</table>\n",
       "</div>"
      ],
      "text/plain": [
       "   Unnamed: 0  playerId  season    first_name  last_name team position  \\\n",
       "0           0   8471709    2008  Marc-Edouard     Vlasic  S.J        D   \n",
       "1          10   8465978    2008         Shawn   Thornton  BOS        L   \n",
       "2          17   8473563    2008       Nicklas  Backstrom  WSH        C   \n",
       "3          30   8471426    2008          Troy    Brouwer  CHI        R   \n",
       "4          39   8468498    2008        Brooks      Orpik  PIT        D   \n",
       "\n",
       "   games_played  icetime  gameScore  year  month  day  weight  height  \\\n",
       "0             6     7435       0.72  1987      3   30     205      73   \n",
       "1            10     5465       1.71  1977      7   23     217      74   \n",
       "2            14    18197      15.04  1987     11   23     210      73   \n",
       "3            17    12085       3.62  1985      8   17     213      75   \n",
       "4            23    27779       5.05  1980      9   26     217      75   \n",
       "\n",
       "  nationality shootsCatches  primaryNumber _merge Weight category  \n",
       "0         CAN             L             44   both    Middleweight  \n",
       "1         CAN             R             22   both    Middleweight  \n",
       "2         SWE             L             19   both    Middleweight  \n",
       "3         CAN             R             22   both    Middleweight  \n",
       "4         USA             L             44   both    Middleweight  "
      ]
     },
     "execution_count": 5,
     "metadata": {},
     "output_type": "execute_result"
    }
   ],
   "source": [
    "df_2008.head()"
   ]
  },
  {
   "cell_type": "markdown",
   "id": "e4aade49",
   "metadata": {},
   "source": [
    "# 04 - Create Categorical Plot"
   ]
  },
  {
   "cell_type": "code",
   "execution_count": 6,
   "id": "958de7e2",
   "metadata": {},
   "outputs": [
    {
     "data": {
      "image/png": "[encoded data removed]",
      "text/plain": [
       "<Figure size 407.5x360 with 1 Axes>"
      ]
     },
     "metadata": {
      "needs_background": "light"
     },
     "output_type": "display_data"
    }
   ],
   "source": [
    "# create the categorical plot\n",
    "weighticetimecategorical = sns.catplot(x='icetime', y='weight', hue='position', data=df_2008)"
   ]
  },
  {
   "cell_type": "code",
   "execution_count": 7,
   "id": "0112ae63",
   "metadata": {},
   "outputs": [],
   "source": [
    "# save graph\n",
    "weighticetimecategorical.figure.savefig(os.path.join(path, '04 Analysis','Visualizations', 'weighticetimeposition2008.png'))"
   ]
  },
  {
   "cell_type": "markdown",
   "id": "0bfe82fb",
   "metadata": {},
   "source": [
    "Interpretation: This categorical graph shows the relationship between icetime and weight divided by positions. Looking closely we see that goalies (purple) either play a lot or very little. A lot of defensemen are heavier players while centers are generally lighter."
   ]
  },
  {
   "cell_type": "markdown",
   "id": "638925b7",
   "metadata": {},
   "source": [
    "One of the questions I had proposed earlier on was, 'is it better to have a bigger or smaller team?' We don't have a full answer but looking at this graph we see that being a certain weight does not necessarily lead to playing more ice time, and thus going further in the playoffs."
   ]
  },
  {
   "cell_type": "code",
   "execution_count": 1,
   "id": "1cefe95f",
   "metadata": {},
   "outputs": [],
   "source": [
    "# A lot more investigation is going to have to be done to find any sort of conclusions"
   ]
  },
  {
   "cell_type": "markdown",
   "id": "3c40dcab",
   "metadata": {},
   "source": [
    "A hypothesis worth asking at this point is: has the make up of a winning team changed over the years? Are there any contant factors?"
   ]
  },
  {
   "cell_type": "code",
   "execution_count": null,
   "id": "fae25253",
   "metadata": {},
   "outputs": [],
   "source": []
  }
 ],
 "metadata": {
  "kernelspec": {
   "display_name": "Python 3 (ipykernel)",
   "language": "python",
   "name": "python3"
  },
  "language_info": {
   "codemirror_mode": {
    "name": "ipython",
    "version": 3
   },
   "file_extension": ".py",
   "mimetype": "text/x-python",
   "name": "python",
   "nbconvert_exporter": "python",
   "pygments_lexer": "ipython3",
   "version": "3.9.7"
  }
 },
 "nbformat": 4,
 "nbformat_minor": 5
}
