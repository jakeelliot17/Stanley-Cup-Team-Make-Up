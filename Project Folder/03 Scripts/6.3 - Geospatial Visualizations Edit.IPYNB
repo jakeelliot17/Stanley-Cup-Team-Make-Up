{
 "cells": [
  {
   "cell_type": "raw",
   "id": "e0a1f38d",
   "metadata": {},
   "source": [
    "This notebook contains the following:\n",
    "'#01 - Importing Libraries\n",
    "'#02 - Importing Data\n",
    "'#03 - Data Cleaning\n",
    "'#04 - Wrangling Data\n",
    "'#05 - Creating the Chloropleth"
   ]
  },
  {
   "cell_type": "markdown",
   "id": "6204a2b5",
   "metadata": {},
   "source": [
    "# 01 - Import Libraries"
   ]
  },
  {
   "cell_type": "code",
   "execution_count": 1,
   "id": "a919db8d",
   "metadata": {},
   "outputs": [],
   "source": [
    "# import\n",
    "import pandas as pd\n",
    "import numpy as np\n",
    "import seaborn as sns\n",
    "import matplotlib\n",
    "import os\n",
    "import folium\n",
    "import json"
   ]
  },
  {
   "cell_type": "markdown",
   "id": "313175a9",
   "metadata": {},
   "source": [
    "# 02 - Import Data Sets"
   ]
  },
  {
   "cell_type": "code",
   "execution_count": 2,
   "id": "8deff31b",
   "metadata": {},
   "outputs": [],
   "source": [
    "# import json file\n",
    "countrygeo = r'C:\\Users\\jakey\\Downloads\\custom.geo.json'"
   ]
  },
  {
   "cell_type": "code",
   "execution_count": 3,
   "id": "5f5d45cb",
   "metadata": {},
   "outputs": [
    {
     "data": {
      "text/plain": [
       "'C:\\\\Users\\\\jakey\\\\Downloads\\\\custom.geo.json'"
      ]
     },
     "execution_count": 3,
     "metadata": {},
     "output_type": "execute_result"
    }
   ],
   "source": [
    "countrygeo"
   ]
  },
  {
   "cell_type": "code",
   "execution_count": 4,
   "id": "3a307632",
   "metadata": {},
   "outputs": [],
   "source": [
    "# import playoffsbio data set\n",
    "path = r'C:\\Users\\jakey\\OneDrive\\Documents\\Data Analytics\\CareerFoundry\\Data Immersion\\Achievement 6\\Project Folder'"
   ]
  },
  {
   "cell_type": "code",
   "execution_count": 5,
   "id": "86d74cc7",
   "metadata": {},
   "outputs": [],
   "source": [
    "# import set\n",
    "df_playoffsbio = pd.read_csv(os.path.join(path, '02 Data', 'Prepared Data', 'playoffsbio.csv'), index_col = False)"
   ]
  },
  {
   "cell_type": "markdown",
   "id": "3954a5c5",
   "metadata": {},
   "source": [
    "# 03 - Check DF"
   ]
  },
  {
   "cell_type": "code",
   "execution_count": 6,
   "id": "93033a1e",
   "metadata": {},
   "outputs": [
    {
     "data": {
      "text/html": [
       "<div>\n",
       "<style scoped>\n",
       "    .dataframe tbody tr th:only-of-type {\n",
       "        vertical-align: middle;\n",
       "    }\n",
       "\n",
       "    .dataframe tbody tr th {\n",
       "        vertical-align: top;\n",
       "    }\n",
       "\n",
       "    .dataframe thead th {\n",
       "        text-align: right;\n",
       "    }\n",
       "</style>\n",
       "<table border=\"1\" class=\"dataframe\">\n",
       "  <thead>\n",
       "    <tr style=\"text-align: right;\">\n",
       "      <th></th>\n",
       "      <th>Unnamed: 0</th>\n",
       "      <th>playerId</th>\n",
       "      <th>season</th>\n",
       "      <th>first_name</th>\n",
       "      <th>last_name</th>\n",
       "      <th>team</th>\n",
       "      <th>position</th>\n",
       "      <th>games_played</th>\n",
       "      <th>icetime</th>\n",
       "      <th>gameScore</th>\n",
       "      <th>year</th>\n",
       "      <th>month</th>\n",
       "      <th>day</th>\n",
       "      <th>weight</th>\n",
       "      <th>height</th>\n",
       "      <th>nationality</th>\n",
       "      <th>shootsCatches</th>\n",
       "      <th>primaryNumber</th>\n",
       "      <th>_merge</th>\n",
       "    </tr>\n",
       "  </thead>\n",
       "  <tbody>\n",
       "    <tr>\n",
       "      <th>0</th>\n",
       "      <td>0</td>\n",
       "      <td>8471709</td>\n",
       "      <td>2008</td>\n",
       "      <td>Marc-Edouard</td>\n",
       "      <td>Vlasic</td>\n",
       "      <td>S.J</td>\n",
       "      <td>D</td>\n",
       "      <td>6</td>\n",
       "      <td>7435</td>\n",
       "      <td>0.72</td>\n",
       "      <td>1987</td>\n",
       "      <td>3</td>\n",
       "      <td>30</td>\n",
       "      <td>205</td>\n",
       "      <td>73</td>\n",
       "      <td>CAN</td>\n",
       "      <td>L</td>\n",
       "      <td>44</td>\n",
       "      <td>both</td>\n",
       "    </tr>\n",
       "    <tr>\n",
       "      <th>1</th>\n",
       "      <td>1</td>\n",
       "      <td>8471709</td>\n",
       "      <td>2009</td>\n",
       "      <td>Marc-Edouard</td>\n",
       "      <td>Vlasic</td>\n",
       "      <td>S.J</td>\n",
       "      <td>D</td>\n",
       "      <td>15</td>\n",
       "      <td>19701</td>\n",
       "      <td>5.58</td>\n",
       "      <td>1987</td>\n",
       "      <td>3</td>\n",
       "      <td>30</td>\n",
       "      <td>205</td>\n",
       "      <td>73</td>\n",
       "      <td>CAN</td>\n",
       "      <td>L</td>\n",
       "      <td>44</td>\n",
       "      <td>both</td>\n",
       "    </tr>\n",
       "    <tr>\n",
       "      <th>2</th>\n",
       "      <td>2</td>\n",
       "      <td>8471709</td>\n",
       "      <td>2010</td>\n",
       "      <td>Marc-Edouard</td>\n",
       "      <td>Vlasic</td>\n",
       "      <td>S.J</td>\n",
       "      <td>D</td>\n",
       "      <td>18</td>\n",
       "      <td>23496</td>\n",
       "      <td>6.10</td>\n",
       "      <td>1987</td>\n",
       "      <td>3</td>\n",
       "      <td>30</td>\n",
       "      <td>205</td>\n",
       "      <td>73</td>\n",
       "      <td>CAN</td>\n",
       "      <td>L</td>\n",
       "      <td>44</td>\n",
       "      <td>both</td>\n",
       "    </tr>\n",
       "    <tr>\n",
       "      <th>3</th>\n",
       "      <td>3</td>\n",
       "      <td>8471709</td>\n",
       "      <td>2011</td>\n",
       "      <td>Marc-Edouard</td>\n",
       "      <td>Vlasic</td>\n",
       "      <td>S.J</td>\n",
       "      <td>D</td>\n",
       "      <td>5</td>\n",
       "      <td>6265</td>\n",
       "      <td>-0.10</td>\n",
       "      <td>1987</td>\n",
       "      <td>3</td>\n",
       "      <td>30</td>\n",
       "      <td>205</td>\n",
       "      <td>73</td>\n",
       "      <td>CAN</td>\n",
       "      <td>L</td>\n",
       "      <td>44</td>\n",
       "      <td>both</td>\n",
       "    </tr>\n",
       "    <tr>\n",
       "      <th>4</th>\n",
       "      <td>4</td>\n",
       "      <td>8471709</td>\n",
       "      <td>2012</td>\n",
       "      <td>Marc-Edouard</td>\n",
       "      <td>Vlasic</td>\n",
       "      <td>S.J</td>\n",
       "      <td>D</td>\n",
       "      <td>11</td>\n",
       "      <td>13639</td>\n",
       "      <td>2.42</td>\n",
       "      <td>1987</td>\n",
       "      <td>3</td>\n",
       "      <td>30</td>\n",
       "      <td>205</td>\n",
       "      <td>73</td>\n",
       "      <td>CAN</td>\n",
       "      <td>L</td>\n",
       "      <td>44</td>\n",
       "      <td>both</td>\n",
       "    </tr>\n",
       "  </tbody>\n",
       "</table>\n",
       "</div>"
      ],
      "text/plain": [
       "   Unnamed: 0  playerId  season    first_name last_name team position  \\\n",
       "0           0   8471709    2008  Marc-Edouard    Vlasic  S.J        D   \n",
       "1           1   8471709    2009  Marc-Edouard    Vlasic  S.J        D   \n",
       "2           2   8471709    2010  Marc-Edouard    Vlasic  S.J        D   \n",
       "3           3   8471709    2011  Marc-Edouard    Vlasic  S.J        D   \n",
       "4           4   8471709    2012  Marc-Edouard    Vlasic  S.J        D   \n",
       "\n",
       "   games_played  icetime  gameScore  year  month  day  weight  height  \\\n",
       "0             6     7435       0.72  1987      3   30     205      73   \n",
       "1            15    19701       5.58  1987      3   30     205      73   \n",
       "2            18    23496       6.10  1987      3   30     205      73   \n",
       "3             5     6265      -0.10  1987      3   30     205      73   \n",
       "4            11    13639       2.42  1987      3   30     205      73   \n",
       "\n",
       "  nationality shootsCatches  primaryNumber _merge  \n",
       "0         CAN             L             44   both  \n",
       "1         CAN             L             44   both  \n",
       "2         CAN             L             44   both  \n",
       "3         CAN             L             44   both  \n",
       "4         CAN             L             44   both  "
      ]
     },
     "execution_count": 6,
     "metadata": {},
     "output_type": "execute_result"
    }
   ],
   "source": [
    "df_playoffsbio.head()"
   ]
  },
  {
   "cell_type": "code",
   "execution_count": 7,
   "id": "cbdafc0c",
   "metadata": {},
   "outputs": [
    {
     "data": {
      "text/plain": [
       "Unnamed: 0         0\n",
       "playerId           0\n",
       "season             0\n",
       "first_name         0\n",
       "last_name          0\n",
       "team               0\n",
       "position           0\n",
       "games_played       0\n",
       "icetime            0\n",
       "gameScore        375\n",
       "year               0\n",
       "month              0\n",
       "day                0\n",
       "weight             0\n",
       "height             0\n",
       "nationality        0\n",
       "shootsCatches      0\n",
       "primaryNumber      0\n",
       "_merge             0\n",
       "dtype: int64"
      ]
     },
     "execution_count": 7,
     "metadata": {},
     "output_type": "execute_result"
    }
   ],
   "source": [
    "# check for missing values\n",
    "df_playoffsbio.isnull().sum()"
   ]
  },
  {
   "cell_type": "code",
   "execution_count": 8,
   "id": "b54f937b",
   "metadata": {},
   "outputs": [],
   "source": [
    "# check for duplicates\n",
    "dups = df_playoffsbio.duplicated()"
   ]
  },
  {
   "cell_type": "code",
   "execution_count": 9,
   "id": "6b17c6a0",
   "metadata": {},
   "outputs": [
    {
     "data": {
      "text/plain": [
       "(5307,)"
      ]
     },
     "execution_count": 9,
     "metadata": {},
     "output_type": "execute_result"
    }
   ],
   "source": [
    "dups.shape"
   ]
  },
  {
   "cell_type": "markdown",
   "id": "52e994c4",
   "metadata": {},
   "source": [
    "# 04 - Wrangling Data"
   ]
  },
  {
   "cell_type": "markdown",
   "id": "c81cbceb",
   "metadata": {},
   "source": [
    "We will look at all seasons, games played by country. The data is already wrangled and ready to go.\n"
   ]
  },
  {
   "cell_type": "markdown",
   "id": "3c9f69c1",
   "metadata": {},
   "source": [
    "# 05 - Creating the Choropleth"
   ]
  },
  {
   "cell_type": "code",
   "execution_count": 10,
   "id": "78fad50c",
   "metadata": {},
   "outputs": [],
   "source": [
    "# here we go\n",
    "data_to_plot = df_playoffsbio[['nationality', 'games_played']]"
   ]
  },
  {
   "cell_type": "code",
   "execution_count": 11,
   "id": "d80fa7c6",
   "metadata": {},
   "outputs": [
    {
     "data": {
      "text/html": [
       "<div>\n",
       "<style scoped>\n",
       "    .dataframe tbody tr th:only-of-type {\n",
       "        vertical-align: middle;\n",
       "    }\n",
       "\n",
       "    .dataframe tbody tr th {\n",
       "        vertical-align: top;\n",
       "    }\n",
       "\n",
       "    .dataframe thead th {\n",
       "        text-align: right;\n",
       "    }\n",
       "</style>\n",
       "<table border=\"1\" class=\"dataframe\">\n",
       "  <thead>\n",
       "    <tr style=\"text-align: right;\">\n",
       "      <th></th>\n",
       "      <th>nationality</th>\n",
       "      <th>games_played</th>\n",
       "    </tr>\n",
       "  </thead>\n",
       "  <tbody>\n",
       "    <tr>\n",
       "      <th>0</th>\n",
       "      <td>CAN</td>\n",
       "      <td>6</td>\n",
       "    </tr>\n",
       "    <tr>\n",
       "      <th>1</th>\n",
       "      <td>CAN</td>\n",
       "      <td>15</td>\n",
       "    </tr>\n",
       "    <tr>\n",
       "      <th>2</th>\n",
       "      <td>CAN</td>\n",
       "      <td>18</td>\n",
       "    </tr>\n",
       "    <tr>\n",
       "      <th>3</th>\n",
       "      <td>CAN</td>\n",
       "      <td>5</td>\n",
       "    </tr>\n",
       "    <tr>\n",
       "      <th>4</th>\n",
       "      <td>CAN</td>\n",
       "      <td>11</td>\n",
       "    </tr>\n",
       "  </tbody>\n",
       "</table>\n",
       "</div>"
      ],
      "text/plain": [
       "  nationality  games_played\n",
       "0         CAN             6\n",
       "1         CAN            15\n",
       "2         CAN            18\n",
       "3         CAN             5\n",
       "4         CAN            11"
      ]
     },
     "execution_count": 11,
     "metadata": {},
     "output_type": "execute_result"
    }
   ],
   "source": [
    "data_to_plot.head()"
   ]
  },
  {
   "cell_type": "code",
   "execution_count": 12,
   "id": "f3a06648",
   "metadata": {},
   "outputs": [],
   "source": [
    "# set up a folium map at a high level to zoom\n",
    "map = folium.Map(location = [100, 0], zoom_start = 1.5)"
   ]
  },
  {
   "cell_type": "code",
   "execution_count": 17,
   "id": "941aa264",
   "metadata": {},
   "outputs": [
    {
     "ename": "UnicodeDecodeError",
     "evalue": "'charmap' codec can't decode byte 0x8d in position 2143: character maps to <undefined>",
     "output_type": "error",
     "traceback": [
      "\u001b[1;31m---------------------------------------------------------------------------\u001b[0m",
      "\u001b[1;31mUnicodeDecodeError\u001b[0m                        Traceback (most recent call last)",
      "\u001b[1;32m~\\AppData\\Local\\Temp/ipykernel_16548/1462512844.py\u001b[0m in \u001b[0;36m<module>\u001b[1;34m\u001b[0m\n\u001b[0;32m      1\u001b[0m \u001b[1;31m# Choropleth maps bind Pandas Data Frames and json geometries.This allows us to quickly visualize data combinations\u001b[0m\u001b[1;33m\u001b[0m\u001b[1;33m\u001b[0m\u001b[0m\n\u001b[1;32m----> 2\u001b[1;33m folium.Choropleth(\n\u001b[0m\u001b[0;32m      3\u001b[0m \u001b[0mgeo_data\u001b[0m \u001b[1;33m=\u001b[0m \u001b[0mcountrygeo\u001b[0m\u001b[1;33m,\u001b[0m\u001b[1;33m\u001b[0m\u001b[1;33m\u001b[0m\u001b[0m\n\u001b[0;32m      4\u001b[0m \u001b[0mdata\u001b[0m \u001b[1;33m=\u001b[0m \u001b[0mdata_to_plot\u001b[0m\u001b[1;33m,\u001b[0m\u001b[1;33m\u001b[0m\u001b[1;33m\u001b[0m\u001b[0m\n\u001b[0;32m      5\u001b[0m \u001b[0mcolumns\u001b[0m \u001b[1;33m=\u001b[0m \u001b[1;33m[\u001b[0m\u001b[1;34m'nationality'\u001b[0m\u001b[1;33m,\u001b[0m \u001b[1;34m'games_played'\u001b[0m\u001b[1;33m]\u001b[0m\u001b[1;33m,\u001b[0m\u001b[1;33m\u001b[0m\u001b[1;33m\u001b[0m\u001b[0m\n",
      "\u001b[1;32m~\\anaconda3\\lib\\site-packages\\folium\\features.py\u001b[0m in \u001b[0;36m__init__\u001b[1;34m(self, geo_data, data, columns, key_on, bins, fill_color, nan_fill_color, fill_opacity, nan_fill_opacity, line_color, line_weight, line_opacity, name, legend_name, overlay, control, show, topojson, smooth_factor, highlight, **kwargs)\u001b[0m\n\u001b[0;32m   1287\u001b[0m                 smooth_factor=smooth_factor)\n\u001b[0;32m   1288\u001b[0m         \u001b[1;32melse\u001b[0m\u001b[1;33m:\u001b[0m\u001b[1;33m\u001b[0m\u001b[1;33m\u001b[0m\u001b[0m\n\u001b[1;32m-> 1289\u001b[1;33m             self.geojson = GeoJson(\n\u001b[0m\u001b[0;32m   1290\u001b[0m                 \u001b[0mgeo_data\u001b[0m\u001b[1;33m,\u001b[0m\u001b[1;33m\u001b[0m\u001b[1;33m\u001b[0m\u001b[0m\n\u001b[0;32m   1291\u001b[0m                 \u001b[0mstyle_function\u001b[0m\u001b[1;33m=\u001b[0m\u001b[0mstyle_function\u001b[0m\u001b[1;33m,\u001b[0m\u001b[1;33m\u001b[0m\u001b[1;33m\u001b[0m\u001b[0m\n",
      "\u001b[1;32m~\\anaconda3\\lib\\site-packages\\folium\\features.py\u001b[0m in \u001b[0;36m__init__\u001b[1;34m(self, data, style_function, highlight_function, name, overlay, control, show, smooth_factor, tooltip, embed, popup, zoom_on_click, marker)\u001b[0m\n\u001b[0;32m    497\u001b[0m         \u001b[0mself\u001b[0m\u001b[1;33m.\u001b[0m\u001b[0mmarker\u001b[0m \u001b[1;33m=\u001b[0m \u001b[0mmarker\u001b[0m\u001b[1;33m\u001b[0m\u001b[1;33m\u001b[0m\u001b[0m\n\u001b[0;32m    498\u001b[0m \u001b[1;33m\u001b[0m\u001b[0m\n\u001b[1;32m--> 499\u001b[1;33m         \u001b[0mself\u001b[0m\u001b[1;33m.\u001b[0m\u001b[0mdata\u001b[0m \u001b[1;33m=\u001b[0m \u001b[0mself\u001b[0m\u001b[1;33m.\u001b[0m\u001b[0mprocess_data\u001b[0m\u001b[1;33m(\u001b[0m\u001b[0mdata\u001b[0m\u001b[1;33m)\u001b[0m\u001b[1;33m\u001b[0m\u001b[1;33m\u001b[0m\u001b[0m\n\u001b[0m\u001b[0;32m    500\u001b[0m \u001b[1;33m\u001b[0m\u001b[0m\n\u001b[0;32m    501\u001b[0m         \u001b[1;32mif\u001b[0m \u001b[0mself\u001b[0m\u001b[1;33m.\u001b[0m\u001b[0mstyle\u001b[0m \u001b[1;32mor\u001b[0m \u001b[0mself\u001b[0m\u001b[1;33m.\u001b[0m\u001b[0mhighlight\u001b[0m\u001b[1;33m:\u001b[0m\u001b[1;33m\u001b[0m\u001b[1;33m\u001b[0m\u001b[0m\n",
      "\u001b[1;32m~\\anaconda3\\lib\\site-packages\\folium\\features.py\u001b[0m in \u001b[0;36mprocess_data\u001b[1;34m(self, data)\u001b[0m\n\u001b[0;32m    535\u001b[0m                     \u001b[0mself\u001b[0m\u001b[1;33m.\u001b[0m\u001b[0membed_link\u001b[0m \u001b[1;33m=\u001b[0m \u001b[0mdata\u001b[0m\u001b[1;33m\u001b[0m\u001b[1;33m\u001b[0m\u001b[0m\n\u001b[0;32m    536\u001b[0m                 \u001b[1;32mwith\u001b[0m \u001b[0mopen\u001b[0m\u001b[1;33m(\u001b[0m\u001b[0mdata\u001b[0m\u001b[1;33m)\u001b[0m \u001b[1;32mas\u001b[0m \u001b[0mf\u001b[0m\u001b[1;33m:\u001b[0m\u001b[1;33m\u001b[0m\u001b[1;33m\u001b[0m\u001b[0m\n\u001b[1;32m--> 537\u001b[1;33m                     \u001b[1;32mreturn\u001b[0m \u001b[0mjson\u001b[0m\u001b[1;33m.\u001b[0m\u001b[0mloads\u001b[0m\u001b[1;33m(\u001b[0m\u001b[0mf\u001b[0m\u001b[1;33m.\u001b[0m\u001b[0mread\u001b[0m\u001b[1;33m(\u001b[0m\u001b[1;33m)\u001b[0m\u001b[1;33m)\u001b[0m\u001b[1;33m\u001b[0m\u001b[1;33m\u001b[0m\u001b[0m\n\u001b[0m\u001b[0;32m    538\u001b[0m         \u001b[1;32melif\u001b[0m \u001b[0mhasattr\u001b[0m\u001b[1;33m(\u001b[0m\u001b[0mdata\u001b[0m\u001b[1;33m,\u001b[0m \u001b[1;34m'__geo_interface__'\u001b[0m\u001b[1;33m)\u001b[0m\u001b[1;33m:\u001b[0m\u001b[1;33m\u001b[0m\u001b[1;33m\u001b[0m\u001b[0m\n\u001b[0;32m    539\u001b[0m             \u001b[0mself\u001b[0m\u001b[1;33m.\u001b[0m\u001b[0membed\u001b[0m \u001b[1;33m=\u001b[0m \u001b[1;32mTrue\u001b[0m\u001b[1;33m\u001b[0m\u001b[1;33m\u001b[0m\u001b[0m\n",
      "\u001b[1;32m~\\anaconda3\\lib\\encodings\\cp1252.py\u001b[0m in \u001b[0;36mdecode\u001b[1;34m(self, input, final)\u001b[0m\n\u001b[0;32m     21\u001b[0m \u001b[1;32mclass\u001b[0m \u001b[0mIncrementalDecoder\u001b[0m\u001b[1;33m(\u001b[0m\u001b[0mcodecs\u001b[0m\u001b[1;33m.\u001b[0m\u001b[0mIncrementalDecoder\u001b[0m\u001b[1;33m)\u001b[0m\u001b[1;33m:\u001b[0m\u001b[1;33m\u001b[0m\u001b[1;33m\u001b[0m\u001b[0m\n\u001b[0;32m     22\u001b[0m     \u001b[1;32mdef\u001b[0m \u001b[0mdecode\u001b[0m\u001b[1;33m(\u001b[0m\u001b[0mself\u001b[0m\u001b[1;33m,\u001b[0m \u001b[0minput\u001b[0m\u001b[1;33m,\u001b[0m \u001b[0mfinal\u001b[0m\u001b[1;33m=\u001b[0m\u001b[1;32mFalse\u001b[0m\u001b[1;33m)\u001b[0m\u001b[1;33m:\u001b[0m\u001b[1;33m\u001b[0m\u001b[1;33m\u001b[0m\u001b[0m\n\u001b[1;32m---> 23\u001b[1;33m         \u001b[1;32mreturn\u001b[0m \u001b[0mcodecs\u001b[0m\u001b[1;33m.\u001b[0m\u001b[0mcharmap_decode\u001b[0m\u001b[1;33m(\u001b[0m\u001b[0minput\u001b[0m\u001b[1;33m,\u001b[0m\u001b[0mself\u001b[0m\u001b[1;33m.\u001b[0m\u001b[0merrors\u001b[0m\u001b[1;33m,\u001b[0m\u001b[0mdecoding_table\u001b[0m\u001b[1;33m)\u001b[0m\u001b[1;33m[\u001b[0m\u001b[1;36m0\u001b[0m\u001b[1;33m]\u001b[0m\u001b[1;33m\u001b[0m\u001b[1;33m\u001b[0m\u001b[0m\n\u001b[0m\u001b[0;32m     24\u001b[0m \u001b[1;33m\u001b[0m\u001b[0m\n\u001b[0;32m     25\u001b[0m \u001b[1;32mclass\u001b[0m \u001b[0mStreamWriter\u001b[0m\u001b[1;33m(\u001b[0m\u001b[0mCodec\u001b[0m\u001b[1;33m,\u001b[0m\u001b[0mcodecs\u001b[0m\u001b[1;33m.\u001b[0m\u001b[0mStreamWriter\u001b[0m\u001b[1;33m)\u001b[0m\u001b[1;33m:\u001b[0m\u001b[1;33m\u001b[0m\u001b[1;33m\u001b[0m\u001b[0m\n",
      "\u001b[1;31mUnicodeDecodeError\u001b[0m: 'charmap' codec can't decode byte 0x8d in position 2143: character maps to <undefined>"
     ]
    }
   ],
   "source": [
    "# Choropleth maps bind Pandas Data Frames and json geometries.This allows us to quickly visualize data combinations\n",
    "folium.Choropleth(\n",
    "geo_data = countrygeo,\n",
    "data = data_to_plot,\n",
    "columns = ['nationality', 'games_played'],\n",
    "key_on = 'feature.sov_a3', # this part is very important - check your json file to see where the KEY is located\n",
    "fill_color = 'YlOrBr', fill_opacity=0.6, line_opacity=0.1,\n",
    "legend_name = \"games\").add_to(map)\n",
    "folium.LayerControl().add_to(map)"
   ]
  },
  {
   "cell_type": "code",
   "execution_count": null,
   "id": "25ccf1a6",
   "metadata": {},
   "outputs": [],
   "source": [
    "# this command prompts matplotlib to show up automatically\n",
    "%matplotlib inline"
   ]
  },
  {
   "cell_type": "code",
   "execution_count": null,
   "id": "474187be",
   "metadata": {},
   "outputs": [],
   "source": [
    "# check data type\n",
    "data_to_plot.dtypes"
   ]
  },
  {
   "cell_type": "code",
   "execution_count": null,
   "id": "24689482",
   "metadata": {},
   "outputs": [],
   "source": []
  }
 ],
 "metadata": {
  "kernelspec": {
   "display_name": "Python 3 (ipykernel)",
   "language": "python",
   "name": "python3"
  },
  "language_info": {
   "codemirror_mode": {
    "name": "ipython",
    "version": 3
   },
   "file_extension": ".py",
   "mimetype": "text/x-python",
   "name": "python",
   "nbconvert_exporter": "python",
   "pygments_lexer": "ipython3",
   "version": "3.9.7"
  }
 },
 "nbformat": 4,
 "nbformat_minor": 5
}
