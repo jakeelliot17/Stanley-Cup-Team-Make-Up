{
 "cells": [
  {
   "cell_type": "code",
   "execution_count": 58,
   "id": "28bd2428",
   "metadata": {},
   "outputs": [],
   "source": [
    "# This file contains the following:\n",
    "# 01 - Import Libraries\n",
    "# 02 - Import Data\n",
    "# 03 - Data Cleaning\n",
    "# 04 - Data Prep for Regression\n",
    "# 05 - State a Hypothesis\n",
    "# 06 - Reshape the Data\n",
    "# 07 - Split the Data into Two Sets, Test and Train\n",
    "# 08 - Run a Linear Regression\n",
    "# 09 - Create a Plot that shows the Regression Line\n",
    "# 10 - Check the model summary statistics RMSE & R2\n",
    "# 11 - Compare the predicted and actual values of Y\n",
    "# 12 - Compare how the regression fits the training set\n",
    "# 13 - Final Thoughts"
   ]
  },
  {
   "cell_type": "markdown",
   "id": "dc2999b0",
   "metadata": {},
   "source": [
    "# 01 - Import Libraries"
   ]
  },
  {
   "cell_type": "code",
   "execution_count": 2,
   "id": "f268080e",
   "metadata": {},
   "outputs": [],
   "source": [
    "# Import libraries including new ones\n",
    "import pandas as pd\n",
    "import numpy as np\n",
    "import seaborn as sns\n",
    "import matplotlib\n",
    "import matplotlib.pyplot as plt\n",
    "import os\n",
    "import sklearn\n",
    "from sklearn.model_selection import train_test_split\n",
    "from sklearn.linear_model import LinearRegression\n",
    "from sklearn.metrics import mean_squared_error, r2_score"
   ]
  },
  {
   "cell_type": "code",
   "execution_count": 3,
   "id": "44892917",
   "metadata": {},
   "outputs": [],
   "source": [
    "# this option ensures graphs are displayed without the need to call them specifically\n",
    "%matplotlib inline"
   ]
  },
  {
   "cell_type": "markdown",
   "id": "7c4d4400",
   "metadata": {},
   "source": [
    "# 02 - Import Data"
   ]
  },
  {
   "cell_type": "code",
   "execution_count": 4,
   "id": "e13eb1db",
   "metadata": {},
   "outputs": [],
   "source": [
    "# import playoffsbio data set\n",
    "path = r'C:\\Users\\jakey\\OneDrive\\Documents\\Data Analytics\\CareerFoundry\\Data Immersion\\Achievement 6\\Project Folder'"
   ]
  },
  {
   "cell_type": "code",
   "execution_count": 5,
   "id": "d87a4a1d",
   "metadata": {},
   "outputs": [],
   "source": [
    "# import set\n",
    "df_playoffsbio = pd.read_csv(os.path.join(path, '02 Data', 'Prepared Data', 'playoffsbio.csv'), index_col = False)"
   ]
  },
  {
   "cell_type": "markdown",
   "id": "dfa890e9",
   "metadata": {},
   "source": [
    "# 03 - Data Cleaning"
   ]
  },
  {
   "cell_type": "code",
   "execution_count": 6,
   "id": "955853df",
   "metadata": {},
   "outputs": [
    {
     "name": "stdout",
     "output_type": "stream",
     "text": [
      "<class 'pandas.core.frame.DataFrame'>\n",
      "RangeIndex: 5307 entries, 0 to 5306\n",
      "Data columns (total 21 columns):\n",
      " #   Column         Non-Null Count  Dtype  \n",
      "---  ------         --------------  -----  \n",
      " 0   playerId       5307 non-null   int64  \n",
      " 1   season         5307 non-null   int64  \n",
      " 2   first_name     5307 non-null   object \n",
      " 3   last_name      5307 non-null   object \n",
      " 4   team           5307 non-null   object \n",
      " 5   position       5307 non-null   object \n",
      " 6   games_played   5307 non-null   int64  \n",
      " 7   icetime        5307 non-null   int64  \n",
      " 8   gameScore      4932 non-null   float64\n",
      " 9   year           5307 non-null   int64  \n",
      " 10  month          5307 non-null   int64  \n",
      " 11  day            5307 non-null   int64  \n",
      " 12  weight         5307 non-null   int64  \n",
      " 13  height         5307 non-null   int64  \n",
      " 14  nationality    5307 non-null   object \n",
      " 15  shootsCatches  5307 non-null   object \n",
      " 16  primaryNumber  5307 non-null   int64  \n",
      " 17  playoffs       5307 non-null   object \n",
      " 18  region         5307 non-null   object \n",
      " 19  age            5307 non-null   int64  \n",
      " 20  age_range      5307 non-null   object \n",
      "dtypes: float64(1), int64(11), object(9)\n",
      "memory usage: 870.8+ KB\n"
     ]
    }
   ],
   "source": [
    "# check data\n",
    "df_playoffsbio.info()"
   ]
  },
  {
   "cell_type": "code",
   "execution_count": 7,
   "id": "b062702b",
   "metadata": {},
   "outputs": [
    {
     "data": {
      "text/html": [
       "<div>\n",
       "<style scoped>\n",
       "    .dataframe tbody tr th:only-of-type {\n",
       "        vertical-align: middle;\n",
       "    }\n",
       "\n",
       "    .dataframe tbody tr th {\n",
       "        vertical-align: top;\n",
       "    }\n",
       "\n",
       "    .dataframe thead th {\n",
       "        text-align: right;\n",
       "    }\n",
       "</style>\n",
       "<table border=\"1\" class=\"dataframe\">\n",
       "  <thead>\n",
       "    <tr style=\"text-align: right;\">\n",
       "      <th></th>\n",
       "      <th>playerId</th>\n",
       "      <th>season</th>\n",
       "      <th>first_name</th>\n",
       "      <th>last_name</th>\n",
       "      <th>team</th>\n",
       "      <th>position</th>\n",
       "      <th>games_played</th>\n",
       "      <th>icetime</th>\n",
       "      <th>gameScore</th>\n",
       "      <th>year</th>\n",
       "      <th>...</th>\n",
       "      <th>day</th>\n",
       "      <th>weight</th>\n",
       "      <th>height</th>\n",
       "      <th>nationality</th>\n",
       "      <th>shootsCatches</th>\n",
       "      <th>primaryNumber</th>\n",
       "      <th>playoffs</th>\n",
       "      <th>region</th>\n",
       "      <th>age</th>\n",
       "      <th>age_range</th>\n",
       "    </tr>\n",
       "  </thead>\n",
       "  <tbody>\n",
       "    <tr>\n",
       "      <th>0</th>\n",
       "      <td>8471716</td>\n",
       "      <td>2008</td>\n",
       "      <td>Justin</td>\n",
       "      <td>Abdelkader</td>\n",
       "      <td>DET</td>\n",
       "      <td>L</td>\n",
       "      <td>10</td>\n",
       "      <td>4180</td>\n",
       "      <td>3.77</td>\n",
       "      <td>1987</td>\n",
       "      <td>...</td>\n",
       "      <td>25</td>\n",
       "      <td>214</td>\n",
       "      <td>74</td>\n",
       "      <td>USA</td>\n",
       "      <td>L</td>\n",
       "      <td>8</td>\n",
       "      <td>runner-up</td>\n",
       "      <td>north_america</td>\n",
       "      <td>21</td>\n",
       "      <td>under23</td>\n",
       "    </tr>\n",
       "    <tr>\n",
       "      <th>1</th>\n",
       "      <td>8471716</td>\n",
       "      <td>2009</td>\n",
       "      <td>Justin</td>\n",
       "      <td>Abdelkader</td>\n",
       "      <td>DET</td>\n",
       "      <td>L</td>\n",
       "      <td>11</td>\n",
       "      <td>4955</td>\n",
       "      <td>2.18</td>\n",
       "      <td>1987</td>\n",
       "      <td>...</td>\n",
       "      <td>25</td>\n",
       "      <td>214</td>\n",
       "      <td>74</td>\n",
       "      <td>USA</td>\n",
       "      <td>L</td>\n",
       "      <td>8</td>\n",
       "      <td>early</td>\n",
       "      <td>north_america</td>\n",
       "      <td>22</td>\n",
       "      <td>under23</td>\n",
       "    </tr>\n",
       "    <tr>\n",
       "      <th>2</th>\n",
       "      <td>8471716</td>\n",
       "      <td>2010</td>\n",
       "      <td>Justin</td>\n",
       "      <td>Abdelkader</td>\n",
       "      <td>DET</td>\n",
       "      <td>L</td>\n",
       "      <td>11</td>\n",
       "      <td>8881</td>\n",
       "      <td>-0.24</td>\n",
       "      <td>1987</td>\n",
       "      <td>...</td>\n",
       "      <td>25</td>\n",
       "      <td>214</td>\n",
       "      <td>74</td>\n",
       "      <td>USA</td>\n",
       "      <td>L</td>\n",
       "      <td>8</td>\n",
       "      <td>early</td>\n",
       "      <td>north_america</td>\n",
       "      <td>23</td>\n",
       "      <td>23-26</td>\n",
       "    </tr>\n",
       "    <tr>\n",
       "      <th>3</th>\n",
       "      <td>8471716</td>\n",
       "      <td>2011</td>\n",
       "      <td>Justin</td>\n",
       "      <td>Abdelkader</td>\n",
       "      <td>DET</td>\n",
       "      <td>L</td>\n",
       "      <td>5</td>\n",
       "      <td>3757</td>\n",
       "      <td>0.52</td>\n",
       "      <td>1987</td>\n",
       "      <td>...</td>\n",
       "      <td>25</td>\n",
       "      <td>214</td>\n",
       "      <td>74</td>\n",
       "      <td>USA</td>\n",
       "      <td>L</td>\n",
       "      <td>8</td>\n",
       "      <td>early</td>\n",
       "      <td>north_america</td>\n",
       "      <td>24</td>\n",
       "      <td>23-26</td>\n",
       "    </tr>\n",
       "    <tr>\n",
       "      <th>4</th>\n",
       "      <td>8471716</td>\n",
       "      <td>2012</td>\n",
       "      <td>Justin</td>\n",
       "      <td>Abdelkader</td>\n",
       "      <td>DET</td>\n",
       "      <td>L</td>\n",
       "      <td>12</td>\n",
       "      <td>12206</td>\n",
       "      <td>8.38</td>\n",
       "      <td>1987</td>\n",
       "      <td>...</td>\n",
       "      <td>25</td>\n",
       "      <td>214</td>\n",
       "      <td>74</td>\n",
       "      <td>USA</td>\n",
       "      <td>L</td>\n",
       "      <td>8</td>\n",
       "      <td>early</td>\n",
       "      <td>north_america</td>\n",
       "      <td>25</td>\n",
       "      <td>23-26</td>\n",
       "    </tr>\n",
       "  </tbody>\n",
       "</table>\n",
       "<p>5 rows × 21 columns</p>\n",
       "</div>"
      ],
      "text/plain": [
       "   playerId  season first_name   last_name team position  games_played  \\\n",
       "0   8471716    2008     Justin  Abdelkader  DET        L            10   \n",
       "1   8471716    2009     Justin  Abdelkader  DET        L            11   \n",
       "2   8471716    2010     Justin  Abdelkader  DET        L            11   \n",
       "3   8471716    2011     Justin  Abdelkader  DET        L             5   \n",
       "4   8471716    2012     Justin  Abdelkader  DET        L            12   \n",
       "\n",
       "   icetime  gameScore  year  ...  day  weight  height  nationality  \\\n",
       "0     4180       3.77  1987  ...   25     214      74          USA   \n",
       "1     4955       2.18  1987  ...   25     214      74          USA   \n",
       "2     8881      -0.24  1987  ...   25     214      74          USA   \n",
       "3     3757       0.52  1987  ...   25     214      74          USA   \n",
       "4    12206       8.38  1987  ...   25     214      74          USA   \n",
       "\n",
       "  shootsCatches primaryNumber   playoffs         region age  age_range  \n",
       "0             L             8  runner-up  north_america  21    under23  \n",
       "1             L             8      early  north_america  22    under23  \n",
       "2             L             8      early  north_america  23      23-26  \n",
       "3             L             8      early  north_america  24      23-26  \n",
       "4             L             8      early  north_america  25      23-26  \n",
       "\n",
       "[5 rows x 21 columns]"
      ]
     },
     "execution_count": 7,
     "metadata": {},
     "output_type": "execute_result"
    }
   ],
   "source": [
    "# check head\n",
    "df_playoffsbio.head()"
   ]
  },
  {
   "cell_type": "code",
   "execution_count": 8,
   "id": "062a75be",
   "metadata": {},
   "outputs": [
    {
     "data": {
      "text/html": [
       "<div>\n",
       "<style scoped>\n",
       "    .dataframe tbody tr th:only-of-type {\n",
       "        vertical-align: middle;\n",
       "    }\n",
       "\n",
       "    .dataframe tbody tr th {\n",
       "        vertical-align: top;\n",
       "    }\n",
       "\n",
       "    .dataframe thead th {\n",
       "        text-align: right;\n",
       "    }\n",
       "</style>\n",
       "<table border=\"1\" class=\"dataframe\">\n",
       "  <thead>\n",
       "    <tr style=\"text-align: right;\">\n",
       "      <th></th>\n",
       "      <th>playerId</th>\n",
       "      <th>season</th>\n",
       "      <th>first_name</th>\n",
       "      <th>last_name</th>\n",
       "      <th>team</th>\n",
       "      <th>position</th>\n",
       "      <th>games_played</th>\n",
       "      <th>icetime</th>\n",
       "      <th>gameScore</th>\n",
       "      <th>year</th>\n",
       "      <th>...</th>\n",
       "      <th>day</th>\n",
       "      <th>weight</th>\n",
       "      <th>height</th>\n",
       "      <th>nationality</th>\n",
       "      <th>shootsCatches</th>\n",
       "      <th>primaryNumber</th>\n",
       "      <th>playoffs</th>\n",
       "      <th>region</th>\n",
       "      <th>age</th>\n",
       "      <th>age_range</th>\n",
       "    </tr>\n",
       "  </thead>\n",
       "  <tbody>\n",
       "    <tr>\n",
       "      <th>5302</th>\n",
       "      <td>8475722</td>\n",
       "      <td>2016</td>\n",
       "      <td>Jason</td>\n",
       "      <td>Zucker</td>\n",
       "      <td>MIN</td>\n",
       "      <td>L</td>\n",
       "      <td>5</td>\n",
       "      <td>5176</td>\n",
       "      <td>5.00</td>\n",
       "      <td>1992</td>\n",
       "      <td>...</td>\n",
       "      <td>16</td>\n",
       "      <td>183</td>\n",
       "      <td>71</td>\n",
       "      <td>USA</td>\n",
       "      <td>L</td>\n",
       "      <td>16</td>\n",
       "      <td>early</td>\n",
       "      <td>north_america</td>\n",
       "      <td>24</td>\n",
       "      <td>23-26</td>\n",
       "    </tr>\n",
       "    <tr>\n",
       "      <th>5303</th>\n",
       "      <td>8475722</td>\n",
       "      <td>2017</td>\n",
       "      <td>Jason</td>\n",
       "      <td>Zucker</td>\n",
       "      <td>MIN</td>\n",
       "      <td>L</td>\n",
       "      <td>4</td>\n",
       "      <td>3997</td>\n",
       "      <td>-0.09</td>\n",
       "      <td>1992</td>\n",
       "      <td>...</td>\n",
       "      <td>16</td>\n",
       "      <td>183</td>\n",
       "      <td>71</td>\n",
       "      <td>USA</td>\n",
       "      <td>L</td>\n",
       "      <td>16</td>\n",
       "      <td>early</td>\n",
       "      <td>north_america</td>\n",
       "      <td>25</td>\n",
       "      <td>23-26</td>\n",
       "    </tr>\n",
       "    <tr>\n",
       "      <th>5304</th>\n",
       "      <td>8475722</td>\n",
       "      <td>2019</td>\n",
       "      <td>Jason</td>\n",
       "      <td>Zucker</td>\n",
       "      <td>PIT</td>\n",
       "      <td>L</td>\n",
       "      <td>4</td>\n",
       "      <td>4136</td>\n",
       "      <td>3.40</td>\n",
       "      <td>1992</td>\n",
       "      <td>...</td>\n",
       "      <td>16</td>\n",
       "      <td>183</td>\n",
       "      <td>71</td>\n",
       "      <td>USA</td>\n",
       "      <td>L</td>\n",
       "      <td>16</td>\n",
       "      <td>early</td>\n",
       "      <td>north_america</td>\n",
       "      <td>27</td>\n",
       "      <td>27-32</td>\n",
       "    </tr>\n",
       "    <tr>\n",
       "      <th>5305</th>\n",
       "      <td>8475722</td>\n",
       "      <td>2020</td>\n",
       "      <td>Jason</td>\n",
       "      <td>Zucker</td>\n",
       "      <td>PIT</td>\n",
       "      <td>L</td>\n",
       "      <td>6</td>\n",
       "      <td>5548</td>\n",
       "      <td>3.45</td>\n",
       "      <td>1992</td>\n",
       "      <td>...</td>\n",
       "      <td>16</td>\n",
       "      <td>183</td>\n",
       "      <td>71</td>\n",
       "      <td>USA</td>\n",
       "      <td>L</td>\n",
       "      <td>16</td>\n",
       "      <td>early</td>\n",
       "      <td>north_america</td>\n",
       "      <td>28</td>\n",
       "      <td>27-32</td>\n",
       "    </tr>\n",
       "    <tr>\n",
       "      <th>5306</th>\n",
       "      <td>8475722</td>\n",
       "      <td>2021</td>\n",
       "      <td>Jason</td>\n",
       "      <td>Zucker</td>\n",
       "      <td>PIT</td>\n",
       "      <td>L</td>\n",
       "      <td>5</td>\n",
       "      <td>4126</td>\n",
       "      <td>-0.03</td>\n",
       "      <td>1992</td>\n",
       "      <td>...</td>\n",
       "      <td>16</td>\n",
       "      <td>183</td>\n",
       "      <td>71</td>\n",
       "      <td>USA</td>\n",
       "      <td>L</td>\n",
       "      <td>16</td>\n",
       "      <td>early</td>\n",
       "      <td>north_america</td>\n",
       "      <td>29</td>\n",
       "      <td>27-32</td>\n",
       "    </tr>\n",
       "  </tbody>\n",
       "</table>\n",
       "<p>5 rows × 21 columns</p>\n",
       "</div>"
      ],
      "text/plain": [
       "      playerId  season first_name last_name team position  games_played  \\\n",
       "5302   8475722    2016      Jason    Zucker  MIN        L             5   \n",
       "5303   8475722    2017      Jason    Zucker  MIN        L             4   \n",
       "5304   8475722    2019      Jason    Zucker  PIT        L             4   \n",
       "5305   8475722    2020      Jason    Zucker  PIT        L             6   \n",
       "5306   8475722    2021      Jason    Zucker  PIT        L             5   \n",
       "\n",
       "      icetime  gameScore  year  ...  day  weight  height  nationality  \\\n",
       "5302     5176       5.00  1992  ...   16     183      71          USA   \n",
       "5303     3997      -0.09  1992  ...   16     183      71          USA   \n",
       "5304     4136       3.40  1992  ...   16     183      71          USA   \n",
       "5305     5548       3.45  1992  ...   16     183      71          USA   \n",
       "5306     4126      -0.03  1992  ...   16     183      71          USA   \n",
       "\n",
       "     shootsCatches primaryNumber  playoffs         region age  age_range  \n",
       "5302             L            16     early  north_america  24      23-26  \n",
       "5303             L            16     early  north_america  25      23-26  \n",
       "5304             L            16     early  north_america  27      27-32  \n",
       "5305             L            16     early  north_america  28      27-32  \n",
       "5306             L            16     early  north_america  29      27-32  \n",
       "\n",
       "[5 rows x 21 columns]"
      ]
     },
     "execution_count": 8,
     "metadata": {},
     "output_type": "execute_result"
    }
   ],
   "source": [
    "# check tail\n",
    "df_playoffsbio.tail()"
   ]
  },
  {
   "cell_type": "code",
   "execution_count": 9,
   "id": "19e5358c",
   "metadata": {},
   "outputs": [
    {
     "data": {
      "text/plain": [
       "27-32      2042\n",
       "23-26      1775\n",
       "under23     766\n",
       "over 33     724\n",
       "Name: age_range, dtype: int64"
      ]
     },
     "execution_count": 9,
     "metadata": {},
     "output_type": "execute_result"
    }
   ],
   "source": [
    "df_playoffsbio['age_range'].value_counts(dropna = False)"
   ]
  },
  {
   "cell_type": "code",
   "execution_count": 10,
   "id": "ef422d0c",
   "metadata": {},
   "outputs": [
    {
     "data": {
      "text/plain": [
       "playerId           0\n",
       "season             0\n",
       "first_name         0\n",
       "last_name          0\n",
       "team               0\n",
       "position           0\n",
       "games_played       0\n",
       "icetime            0\n",
       "gameScore        375\n",
       "year               0\n",
       "month              0\n",
       "day                0\n",
       "weight             0\n",
       "height             0\n",
       "nationality        0\n",
       "shootsCatches      0\n",
       "primaryNumber      0\n",
       "playoffs           0\n",
       "region             0\n",
       "age                0\n",
       "age_range          0\n",
       "dtype: int64"
      ]
     },
     "execution_count": 10,
     "metadata": {},
     "output_type": "execute_result"
    }
   ],
   "source": [
    "# check for missing values\n",
    "df_playoffsbio.isnull().sum()"
   ]
  },
  {
   "cell_type": "code",
   "execution_count": 11,
   "id": "fce18f2e",
   "metadata": {},
   "outputs": [],
   "source": [
    "# check for duplicates\n",
    "dups = df_playoffsbio.duplicated()"
   ]
  },
  {
   "cell_type": "code",
   "execution_count": 12,
   "id": "5afc3da6",
   "metadata": {},
   "outputs": [
    {
     "data": {
      "text/plain": [
       "(5307,)"
      ]
     },
     "execution_count": 12,
     "metadata": {},
     "output_type": "execute_result"
    }
   ],
   "source": [
    "dups.shape # no dups"
   ]
  },
  {
   "cell_type": "markdown",
   "id": "e9a6cf90",
   "metadata": {},
   "source": [
    "# 04 - Data Prep for Regression Analysis"
   ]
  },
  {
   "cell_type": "code",
   "execution_count": 16,
   "id": "574a9acd",
   "metadata": {},
   "outputs": [],
   "source": [
    "# choose only data from winning teams\n",
    "df_winners = df_playoffsbio[df_playoffsbio.playoffs=='winner']"
   ]
  },
  {
   "cell_type": "code",
   "execution_count": 17,
   "id": "90ff25f1",
   "metadata": {},
   "outputs": [
    {
     "data": {
      "image/png": "[encoded data removed]",
      "text/plain": [
       "<Figure size 432x288 with 1 Axes>"
      ]
     },
     "metadata": {
      "needs_background": "light"
     },
     "output_type": "display_data"
    }
   ],
   "source": [
    "# scatterplot ice time vs age\n",
    "df_winners.plot(x = 'age', y='icetime',style='o') # The style option creates a scatterplot; without it, we only have lines.\n",
    "plt.title('Icetime vs Age')\n",
    "plt.xlabel('Age')\n",
    "plt.ylabel('Icetime')\n",
    "plt.show()"
   ]
  },
  {
   "cell_type": "code",
   "execution_count": 18,
   "id": "4df4ff54",
   "metadata": {},
   "outputs": [],
   "source": [
    "# runner-up scatterplot\n",
    "df_runnerup = df_playoffsbio[df_playoffsbio.playoffs=='runner-up']"
   ]
  },
  {
   "cell_type": "code",
   "execution_count": 19,
   "id": "59530f6b",
   "metadata": {},
   "outputs": [
    {
     "data": {
      "image/png": "[encoded data removed]",
      "text/plain": [
       "<Figure size 432x288 with 1 Axes>"
      ]
     },
     "metadata": {
      "needs_background": "light"
     },
     "output_type": "display_data"
    }
   ],
   "source": [
    "df_runnerup.plot(x = 'age', y='icetime',style='o') # The style option creates a scatterplot; without it, we only have lines.\n",
    "plt.title('Icetime vs Age')\n",
    "plt.xlabel('Age')\n",
    "plt.ylabel('Icetime')\n",
    "plt.show()"
   ]
  },
  {
   "cell_type": "code",
   "execution_count": 20,
   "id": "bd9accfb",
   "metadata": {},
   "outputs": [],
   "source": [
    "# early data\n",
    "df_early = df_playoffsbio[df_playoffsbio.playoffs=='early']"
   ]
  },
  {
   "cell_type": "code",
   "execution_count": 21,
   "id": "d479e8f4",
   "metadata": {},
   "outputs": [
    {
     "data": {
      "image/png": "[encoded data removed]",
      "text/plain": [
       "<Figure size 432x288 with 1 Axes>"
      ]
     },
     "metadata": {
      "needs_background": "light"
     },
     "output_type": "display_data"
    }
   ],
   "source": [
    "df_early.plot(x = 'age', y='icetime',style='o') # The style option creates a scatterplot; without it, we only have lines.\n",
    "plt.title('Icetime vs Age')\n",
    "plt.xlabel('Age')\n",
    "plt.ylabel('Icetime')\n",
    "plt.show()"
   ]
  },
  {
   "cell_type": "code",
   "execution_count": 25,
   "id": "b5c634c9",
   "metadata": {},
   "outputs": [],
   "source": [
    "# scatter plot by groups of seasons\n",
    "df_20082012 = df_playoffsbio[df_playoffsbio.season==(2008 or 2009 or 2010 or 2011 or 2012)]"
   ]
  },
  {
   "cell_type": "code",
   "execution_count": 26,
   "id": "779b5ca4",
   "metadata": {},
   "outputs": [
    {
     "data": {
      "text/html": [
       "<div>\n",
       "<style scoped>\n",
       "    .dataframe tbody tr th:only-of-type {\n",
       "        vertical-align: middle;\n",
       "    }\n",
       "\n",
       "    .dataframe tbody tr th {\n",
       "        vertical-align: top;\n",
       "    }\n",
       "\n",
       "    .dataframe thead th {\n",
       "        text-align: right;\n",
       "    }\n",
       "</style>\n",
       "<table border=\"1\" class=\"dataframe\">\n",
       "  <thead>\n",
       "    <tr style=\"text-align: right;\">\n",
       "      <th></th>\n",
       "      <th>playerId</th>\n",
       "      <th>season</th>\n",
       "      <th>first_name</th>\n",
       "      <th>last_name</th>\n",
       "      <th>team</th>\n",
       "      <th>position</th>\n",
       "      <th>games_played</th>\n",
       "      <th>icetime</th>\n",
       "      <th>gameScore</th>\n",
       "      <th>year</th>\n",
       "      <th>...</th>\n",
       "      <th>day</th>\n",
       "      <th>weight</th>\n",
       "      <th>height</th>\n",
       "      <th>nationality</th>\n",
       "      <th>shootsCatches</th>\n",
       "      <th>primaryNumber</th>\n",
       "      <th>playoffs</th>\n",
       "      <th>region</th>\n",
       "      <th>age</th>\n",
       "      <th>age_range</th>\n",
       "    </tr>\n",
       "  </thead>\n",
       "  <tbody>\n",
       "    <tr>\n",
       "      <th>0</th>\n",
       "      <td>8471716</td>\n",
       "      <td>2008</td>\n",
       "      <td>Justin</td>\n",
       "      <td>Abdelkader</td>\n",
       "      <td>DET</td>\n",
       "      <td>L</td>\n",
       "      <td>10</td>\n",
       "      <td>4180</td>\n",
       "      <td>3.77</td>\n",
       "      <td>1987</td>\n",
       "      <td>...</td>\n",
       "      <td>25</td>\n",
       "      <td>214</td>\n",
       "      <td>74</td>\n",
       "      <td>USA</td>\n",
       "      <td>L</td>\n",
       "      <td>8</td>\n",
       "      <td>runner-up</td>\n",
       "      <td>north_america</td>\n",
       "      <td>21</td>\n",
       "      <td>under23</td>\n",
       "    </tr>\n",
       "    <tr>\n",
       "      <th>16</th>\n",
       "      <td>8465166</td>\n",
       "      <td>2008</td>\n",
       "      <td>Craig</td>\n",
       "      <td>Adams</td>\n",
       "      <td>PIT</td>\n",
       "      <td>R</td>\n",
       "      <td>23</td>\n",
       "      <td>13284</td>\n",
       "      <td>4.58</td>\n",
       "      <td>1977</td>\n",
       "      <td>...</td>\n",
       "      <td>26</td>\n",
       "      <td>200</td>\n",
       "      <td>72</td>\n",
       "      <td>CAN</td>\n",
       "      <td>R</td>\n",
       "      <td>27</td>\n",
       "      <td>winner</td>\n",
       "      <td>north_america</td>\n",
       "      <td>31</td>\n",
       "      <td>27-32</td>\n",
       "    </tr>\n",
       "    <tr>\n",
       "      <th>28</th>\n",
       "      <td>8469626</td>\n",
       "      <td>2008</td>\n",
       "      <td>Andrew</td>\n",
       "      <td>Alberts</td>\n",
       "      <td>PHI</td>\n",
       "      <td>D</td>\n",
       "      <td>6</td>\n",
       "      <td>4919</td>\n",
       "      <td>0.50</td>\n",
       "      <td>1981</td>\n",
       "      <td>...</td>\n",
       "      <td>30</td>\n",
       "      <td>218</td>\n",
       "      <td>77</td>\n",
       "      <td>USA</td>\n",
       "      <td>L</td>\n",
       "      <td>41</td>\n",
       "      <td>early</td>\n",
       "      <td>north_america</td>\n",
       "      <td>27</td>\n",
       "      <td>27-32</td>\n",
       "    </tr>\n",
       "    <tr>\n",
       "      <th>80</th>\n",
       "      <td>8473573</td>\n",
       "      <td>2008</td>\n",
       "      <td>Artem</td>\n",
       "      <td>Anisimov</td>\n",
       "      <td>NYR</td>\n",
       "      <td>C</td>\n",
       "      <td>1</td>\n",
       "      <td>335</td>\n",
       "      <td>-0.25</td>\n",
       "      <td>1988</td>\n",
       "      <td>...</td>\n",
       "      <td>24</td>\n",
       "      <td>198</td>\n",
       "      <td>76</td>\n",
       "      <td>RUS</td>\n",
       "      <td>L</td>\n",
       "      <td>15</td>\n",
       "      <td>early</td>\n",
       "      <td>europe</td>\n",
       "      <td>20</td>\n",
       "      <td>under23</td>\n",
       "    </tr>\n",
       "    <tr>\n",
       "      <th>86</th>\n",
       "      <td>8467353</td>\n",
       "      <td>2008</td>\n",
       "      <td>Nik</td>\n",
       "      <td>Antropov</td>\n",
       "      <td>NYR</td>\n",
       "      <td>C</td>\n",
       "      <td>7</td>\n",
       "      <td>7011</td>\n",
       "      <td>2.81</td>\n",
       "      <td>1980</td>\n",
       "      <td>...</td>\n",
       "      <td>18</td>\n",
       "      <td>245</td>\n",
       "      <td>78</td>\n",
       "      <td>KAZ</td>\n",
       "      <td>L</td>\n",
       "      <td>80</td>\n",
       "      <td>early</td>\n",
       "      <td>europe</td>\n",
       "      <td>28</td>\n",
       "      <td>27-32</td>\n",
       "    </tr>\n",
       "  </tbody>\n",
       "</table>\n",
       "<p>5 rows × 21 columns</p>\n",
       "</div>"
      ],
      "text/plain": [
       "    playerId  season first_name   last_name team position  games_played  \\\n",
       "0    8471716    2008     Justin  Abdelkader  DET        L            10   \n",
       "16   8465166    2008      Craig       Adams  PIT        R            23   \n",
       "28   8469626    2008     Andrew     Alberts  PHI        D             6   \n",
       "80   8473573    2008      Artem    Anisimov  NYR        C             1   \n",
       "86   8467353    2008        Nik    Antropov  NYR        C             7   \n",
       "\n",
       "    icetime  gameScore  year  ...  day  weight  height  nationality  \\\n",
       "0      4180       3.77  1987  ...   25     214      74          USA   \n",
       "16    13284       4.58  1977  ...   26     200      72          CAN   \n",
       "28     4919       0.50  1981  ...   30     218      77          USA   \n",
       "80      335      -0.25  1988  ...   24     198      76          RUS   \n",
       "86     7011       2.81  1980  ...   18     245      78          KAZ   \n",
       "\n",
       "   shootsCatches primaryNumber   playoffs         region age  age_range  \n",
       "0              L             8  runner-up  north_america  21    under23  \n",
       "16             R            27     winner  north_america  31      27-32  \n",
       "28             L            41      early  north_america  27      27-32  \n",
       "80             L            15      early         europe  20    under23  \n",
       "86             L            80      early         europe  28      27-32  \n",
       "\n",
       "[5 rows x 21 columns]"
      ]
     },
     "execution_count": 26,
     "metadata": {},
     "output_type": "execute_result"
    }
   ],
   "source": [
    "df_20082012.head()"
   ]
  },
  {
   "cell_type": "code",
   "execution_count": 28,
   "id": "d8c6f9ad",
   "metadata": {},
   "outputs": [
    {
     "data": {
      "text/plain": [
       "(358, 21)"
      ]
     },
     "execution_count": 28,
     "metadata": {},
     "output_type": "execute_result"
    }
   ],
   "source": [
    "df_20082012.shape"
   ]
  },
  {
   "cell_type": "code",
   "execution_count": 29,
   "id": "a58d42c5",
   "metadata": {},
   "outputs": [
    {
     "data": {
      "image/png": "[encoded data removed]",
      "text/plain": [
       "<Figure size 432x288 with 1 Axes>"
      ]
     },
     "metadata": {
      "needs_background": "light"
     },
     "output_type": "display_data"
    }
   ],
   "source": [
    "df_20082012.plot(x = 'age', y='icetime',style='o') # The style option creates a scatterplot; without it, we only have lines.\n",
    "plt.title('Icetime vs Age')\n",
    "plt.xlabel('Age')\n",
    "plt.ylabel('Icetime')\n",
    "plt.show()"
   ]
  },
  {
   "cell_type": "code",
   "execution_count": 30,
   "id": "035137df",
   "metadata": {},
   "outputs": [],
   "source": [
    "# scatter plot by groups of seasons\n",
    "df_20132017 = df_playoffsbio[df_playoffsbio.season==(2013 or 2014 or 2015 or 2016 or 2017)]"
   ]
  },
  {
   "cell_type": "code",
   "execution_count": 31,
   "id": "5846b68a",
   "metadata": {},
   "outputs": [
    {
     "data": {
      "image/png": "[encoded data removed]",
      "text/plain": [
       "<Figure size 432x288 with 1 Axes>"
      ]
     },
     "metadata": {
      "needs_background": "light"
     },
     "output_type": "display_data"
    }
   ],
   "source": [
    "df_20132017.plot(x = 'age', y='icetime',style='o') # The style option creates a scatterplot; without it, we only have lines.\n",
    "plt.title('Icetime vs Age')\n",
    "plt.xlabel('Age')\n",
    "plt.ylabel('Icetime')\n",
    "plt.show()"
   ]
  },
  {
   "cell_type": "code",
   "execution_count": 32,
   "id": "366d72bb",
   "metadata": {},
   "outputs": [],
   "source": [
    "# scatter plot by groups of seasons\n",
    "df_20182021 = df_playoffsbio[df_playoffsbio.season==(2018 or 2019 or 2020 or 2021)]"
   ]
  },
  {
   "cell_type": "code",
   "execution_count": 33,
   "id": "8e5a0733",
   "metadata": {},
   "outputs": [
    {
     "data": {
      "image/png": "[encoded data removed]",
      "text/plain": [
       "<Figure size 432x288 with 1 Axes>"
      ]
     },
     "metadata": {
      "needs_background": "light"
     },
     "output_type": "display_data"
    }
   ],
   "source": [
    "df_20182021.plot(x = 'age', y='icetime',style='o') # The style option creates a scatterplot; without it, we only have lines.\n",
    "plt.title('Icetime vs Age')\n",
    "plt.xlabel('Age')\n",
    "plt.ylabel('Icetime')\n",
    "plt.show()"
   ]
  },
  {
   "cell_type": "code",
   "execution_count": 34,
   "id": "d6fa0276",
   "metadata": {},
   "outputs": [
    {
     "data": {
      "text/plain": [
       "26.83661971830986"
      ]
     },
     "execution_count": 34,
     "metadata": {},
     "output_type": "execute_result"
    }
   ],
   "source": [
    "# check average age\n",
    "df_20182021['age'].mean()"
   ]
  },
  {
   "cell_type": "code",
   "execution_count": 35,
   "id": "21f0b5b8",
   "metadata": {},
   "outputs": [
    {
     "data": {
      "text/plain": [
       "27.198924731182796"
      ]
     },
     "execution_count": 35,
     "metadata": {},
     "output_type": "execute_result"
    }
   ],
   "source": [
    "df_20132017['age'].mean()"
   ]
  },
  {
   "cell_type": "code",
   "execution_count": 36,
   "id": "850ce991",
   "metadata": {},
   "outputs": [
    {
     "data": {
      "text/plain": [
       "27.74022346368715"
      ]
     },
     "execution_count": 36,
     "metadata": {},
     "output_type": "execute_result"
    }
   ],
   "source": [
    "df_20082012['age'].mean()"
   ]
  },
  {
   "cell_type": "code",
   "execution_count": 38,
   "id": "4a4802ef",
   "metadata": {},
   "outputs": [
    {
     "data": {
      "text/plain": [
       "27-32      143\n",
       "23-26      125\n",
       "under23     54\n",
       "over 33     33\n",
       "Name: age_range, dtype: int64"
      ]
     },
     "execution_count": 38,
     "metadata": {},
     "output_type": "execute_result"
    }
   ],
   "source": [
    "# value counts of age range\n",
    "df_20182021['age_range'].value_counts()"
   ]
  },
  {
   "cell_type": "code",
   "execution_count": 39,
   "id": "8b730a2a",
   "metadata": {},
   "outputs": [
    {
     "data": {
      "text/plain": [
       "27-32      131\n",
       "23-26      124\n",
       "under23     60\n",
       "over 33     57\n",
       "Name: age_range, dtype: int64"
      ]
     },
     "execution_count": 39,
     "metadata": {},
     "output_type": "execute_result"
    }
   ],
   "source": [
    "df_20132017['age_range'].value_counts()"
   ]
  },
  {
   "cell_type": "code",
   "execution_count": 40,
   "id": "22aebb39",
   "metadata": {},
   "outputs": [
    {
     "data": {
      "text/plain": [
       "27-32      120\n",
       "23-26      120\n",
       "over 33     68\n",
       "under23     50\n",
       "Name: age_range, dtype: int64"
      ]
     },
     "execution_count": 40,
     "metadata": {},
     "output_type": "execute_result"
    }
   ],
   "source": [
    "df_20082012['age_range'].value_counts()"
   ]
  },
  {
   "cell_type": "markdown",
   "id": "05230d3e",
   "metadata": {},
   "source": [
    "# 05 - Hypothesis"
   ]
  },
  {
   "cell_type": "markdown",
   "id": "1ac17480",
   "metadata": {},
   "source": [
    "I expect that as players get older they will receive more ice time until the age of 32, then ice time will decrease after that."
   ]
  },
  {
   "cell_type": "markdown",
   "id": "33cfd314",
   "metadata": {},
   "source": [
    "# 06 - Reshape the Data"
   ]
  },
  {
   "cell_type": "code",
   "execution_count": 41,
   "id": "c80e969a",
   "metadata": {},
   "outputs": [],
   "source": [
    "# Reshape the variables into NumPy arrays and put them into separate objects.\n",
    "X = df_playoffsbio['age'].values.reshape(-1,1)\n",
    "y = df_playoffsbio['icetime'].values.reshape(-1,1)"
   ]
  },
  {
   "cell_type": "code",
   "execution_count": 42,
   "id": "b5b0a201",
   "metadata": {},
   "outputs": [
    {
     "data": {
      "text/plain": [
       "array([[21],\n",
       "       [22],\n",
       "       [23],\n",
       "       ...,\n",
       "       [27],\n",
       "       [28],\n",
       "       [29]], dtype=int64)"
      ]
     },
     "execution_count": 42,
     "metadata": {},
     "output_type": "execute_result"
    }
   ],
   "source": [
    "# check it\n",
    "X"
   ]
  },
  {
   "cell_type": "code",
   "execution_count": 43,
   "id": "7843023d",
   "metadata": {},
   "outputs": [
    {
     "data": {
      "text/plain": [
       "array([[4180],\n",
       "       [4955],\n",
       "       [8881],\n",
       "       ...,\n",
       "       [4136],\n",
       "       [5548],\n",
       "       [4126]], dtype=int64)"
      ]
     },
     "execution_count": 43,
     "metadata": {},
     "output_type": "execute_result"
    }
   ],
   "source": [
    "# check y\n",
    "y"
   ]
  },
  {
   "cell_type": "markdown",
   "id": "9c925ae1",
   "metadata": {},
   "source": [
    "# 07 - Split data into two sets"
   ]
  },
  {
   "cell_type": "code",
   "execution_count": 44,
   "id": "d92c0e55",
   "metadata": {},
   "outputs": [],
   "source": [
    "# Split data into a training set and a test set.\n",
    "X_train, X_test, y_train, y_test = train_test_split(X, y, test_size=0.3, random_state=0)"
   ]
  },
  {
   "cell_type": "markdown",
   "id": "1a4d1a90",
   "metadata": {},
   "source": [
    "# 08 - Run a Linear Regression"
   ]
  },
  {
   "cell_type": "code",
   "execution_count": 45,
   "id": "36db8909",
   "metadata": {},
   "outputs": [],
   "source": [
    "# Create a regression object.\n",
    "regression = LinearRegression()  # This is the regression object, which will be fit onto the training set."
   ]
  },
  {
   "cell_type": "code",
   "execution_count": 46,
   "id": "7d3a6d1a",
   "metadata": {},
   "outputs": [
    {
     "data": {
      "text/plain": [
       "LinearRegression()"
      ]
     },
     "execution_count": 46,
     "metadata": {},
     "output_type": "execute_result"
    }
   ],
   "source": [
    "# Fit the regression object onto the training set.\n",
    "regression.fit(X_train, y_train)"
   ]
  },
  {
   "cell_type": "code",
   "execution_count": 47,
   "id": "2398b5bf",
   "metadata": {},
   "outputs": [],
   "source": [
    "# Predict the values of y using X.\n",
    "y_predicted = regression.predict(X_test)"
   ]
  },
  {
   "cell_type": "markdown",
   "id": "9a66441a",
   "metadata": {},
   "source": [
    "# 09 - Create a Plot that shows the Regression Line"
   ]
  },
  {
   "cell_type": "code",
   "execution_count": 48,
   "id": "10b72fab",
   "metadata": {},
   "outputs": [
    {
     "data": {
      "image/png": "[encoded data removed]",
      "text/plain": [
       "<Figure size 432x288 with 1 Axes>"
      ]
     },
     "metadata": {
      "needs_background": "light"
     },
     "output_type": "display_data"
    }
   ],
   "source": [
    "# Create a plot that shows the regression line from the model on the test set.\n",
    "plot_test = plt\n",
    "plot_test.scatter(X_test, y_test, color='gray', s = 15)\n",
    "plot_test.plot(X_test, y_predicted, color='red', linewidth =3)\n",
    "plot_test.title('Icetime vs Age (Test set)')\n",
    "plot_test.xlabel('Age')\n",
    "plot_test.ylabel('Icetime')\n",
    "plot_test.show()"
   ]
  },
  {
   "cell_type": "markdown",
   "id": "123e7634",
   "metadata": {},
   "source": [
    "There doesn't seem to be much a fit with the data, the line is very flat."
   ]
  },
  {
   "cell_type": "markdown",
   "id": "84ff17ee",
   "metadata": {},
   "source": [
    "# 10 - Check the model summary statistics RMSE & R2"
   ]
  },
  {
   "cell_type": "code",
   "execution_count": 49,
   "id": "b39e042d",
   "metadata": {},
   "outputs": [],
   "source": [
    "# Create objects that contain the model summary statistics.\n",
    "rmse = mean_squared_error(y_test, y_predicted) # This is the mean squared error\n",
    "r2 = r2_score(y_test, y_predicted) # This is the R2 score."
   ]
  },
  {
   "cell_type": "code",
   "execution_count": 50,
   "id": "263bf0e6",
   "metadata": {},
   "outputs": [
    {
     "name": "stdout",
     "output_type": "stream",
     "text": [
      "Slope: [[129.07003739]]\n",
      "Mean squared error:  109289712.08146554\n",
      "R2 score:  0.008944857542979134\n"
     ]
    }
   ],
   "source": [
    "# Print the model summary statistics. This is where you evaluate the performance of the model.\n",
    "print('Slope:' ,regression.coef_)\n",
    "print('Mean squared error: ', rmse)\n",
    "print('R2 score: ', r2)"
   ]
  },
  {
   "cell_type": "markdown",
   "id": "b9b1fd78",
   "metadata": {},
   "source": [
    "# 11 - Compare the predicted and actual values of Y"
   ]
  },
  {
   "cell_type": "code",
   "execution_count": 52,
   "id": "f4b7b96b",
   "metadata": {},
   "outputs": [
    {
     "data": {
      "text/html": [
       "<div>\n",
       "<style scoped>\n",
       "    .dataframe tbody tr th:only-of-type {\n",
       "        vertical-align: middle;\n",
       "    }\n",
       "\n",
       "    .dataframe tbody tr th {\n",
       "        vertical-align: top;\n",
       "    }\n",
       "\n",
       "    .dataframe thead th {\n",
       "        text-align: right;\n",
       "    }\n",
       "</style>\n",
       "<table border=\"1\" class=\"dataframe\">\n",
       "  <thead>\n",
       "    <tr style=\"text-align: right;\">\n",
       "      <th></th>\n",
       "      <th>Actual</th>\n",
       "      <th>Predicted</th>\n",
       "    </tr>\n",
       "  </thead>\n",
       "  <tbody>\n",
       "    <tr>\n",
       "      <th>0</th>\n",
       "      <td>3927</td>\n",
       "      <td>10435.431658</td>\n",
       "    </tr>\n",
       "    <tr>\n",
       "      <th>1</th>\n",
       "      <td>7469</td>\n",
       "      <td>10693.571733</td>\n",
       "    </tr>\n",
       "    <tr>\n",
       "      <th>2</th>\n",
       "      <td>2283</td>\n",
       "      <td>11080.781845</td>\n",
       "    </tr>\n",
       "    <tr>\n",
       "      <th>3</th>\n",
       "      <td>3927</td>\n",
       "      <td>9661.011434</td>\n",
       "    </tr>\n",
       "    <tr>\n",
       "      <th>4</th>\n",
       "      <td>14373</td>\n",
       "      <td>10951.711808</td>\n",
       "    </tr>\n",
       "    <tr>\n",
       "      <th>5</th>\n",
       "      <td>7131</td>\n",
       "      <td>10564.501695</td>\n",
       "    </tr>\n",
       "    <tr>\n",
       "      <th>6</th>\n",
       "      <td>7369</td>\n",
       "      <td>11080.781845</td>\n",
       "    </tr>\n",
       "    <tr>\n",
       "      <th>7</th>\n",
       "      <td>21748</td>\n",
       "      <td>10048.221546</td>\n",
       "    </tr>\n",
       "    <tr>\n",
       "      <th>8</th>\n",
       "      <td>13616</td>\n",
       "      <td>10306.361621</td>\n",
       "    </tr>\n",
       "    <tr>\n",
       "      <th>9</th>\n",
       "      <td>11220</td>\n",
       "      <td>10951.711808</td>\n",
       "    </tr>\n",
       "    <tr>\n",
       "      <th>10</th>\n",
       "      <td>5792</td>\n",
       "      <td>10822.641770</td>\n",
       "    </tr>\n",
       "    <tr>\n",
       "      <th>11</th>\n",
       "      <td>4454</td>\n",
       "      <td>11467.991957</td>\n",
       "    </tr>\n",
       "    <tr>\n",
       "      <th>12</th>\n",
       "      <td>18891</td>\n",
       "      <td>10048.221546</td>\n",
       "    </tr>\n",
       "    <tr>\n",
       "      <th>13</th>\n",
       "      <td>11106</td>\n",
       "      <td>11080.781845</td>\n",
       "    </tr>\n",
       "    <tr>\n",
       "      <th>14</th>\n",
       "      <td>2172</td>\n",
       "      <td>12113.342144</td>\n",
       "    </tr>\n",
       "    <tr>\n",
       "      <th>15</th>\n",
       "      <td>476</td>\n",
       "      <td>11467.991957</td>\n",
       "    </tr>\n",
       "    <tr>\n",
       "      <th>16</th>\n",
       "      <td>1762</td>\n",
       "      <td>10435.431658</td>\n",
       "    </tr>\n",
       "    <tr>\n",
       "      <th>17</th>\n",
       "      <td>17297</td>\n",
       "      <td>10177.291583</td>\n",
       "    </tr>\n",
       "    <tr>\n",
       "      <th>18</th>\n",
       "      <td>8407</td>\n",
       "      <td>10048.221546</td>\n",
       "    </tr>\n",
       "    <tr>\n",
       "      <th>19</th>\n",
       "      <td>14821</td>\n",
       "      <td>10306.361621</td>\n",
       "    </tr>\n",
       "    <tr>\n",
       "      <th>20</th>\n",
       "      <td>11621</td>\n",
       "      <td>10951.711808</td>\n",
       "    </tr>\n",
       "    <tr>\n",
       "      <th>21</th>\n",
       "      <td>609</td>\n",
       "      <td>10693.571733</td>\n",
       "    </tr>\n",
       "    <tr>\n",
       "      <th>22</th>\n",
       "      <td>21719</td>\n",
       "      <td>10951.711808</td>\n",
       "    </tr>\n",
       "    <tr>\n",
       "      <th>23</th>\n",
       "      <td>18987</td>\n",
       "      <td>12113.342144</td>\n",
       "    </tr>\n",
       "    <tr>\n",
       "      <th>24</th>\n",
       "      <td>7775</td>\n",
       "      <td>10435.431658</td>\n",
       "    </tr>\n",
       "    <tr>\n",
       "      <th>25</th>\n",
       "      <td>12650</td>\n",
       "      <td>9790.081471</td>\n",
       "    </tr>\n",
       "    <tr>\n",
       "      <th>26</th>\n",
       "      <td>3461</td>\n",
       "      <td>10306.361621</td>\n",
       "    </tr>\n",
       "    <tr>\n",
       "      <th>27</th>\n",
       "      <td>1468</td>\n",
       "      <td>10693.571733</td>\n",
       "    </tr>\n",
       "    <tr>\n",
       "      <th>28</th>\n",
       "      <td>21520</td>\n",
       "      <td>10822.641770</td>\n",
       "    </tr>\n",
       "    <tr>\n",
       "      <th>29</th>\n",
       "      <td>16632</td>\n",
       "      <td>10951.711808</td>\n",
       "    </tr>\n",
       "  </tbody>\n",
       "</table>\n",
       "</div>"
      ],
      "text/plain": [
       "    Actual     Predicted\n",
       "0     3927  10435.431658\n",
       "1     7469  10693.571733\n",
       "2     2283  11080.781845\n",
       "3     3927   9661.011434\n",
       "4    14373  10951.711808\n",
       "5     7131  10564.501695\n",
       "6     7369  11080.781845\n",
       "7    21748  10048.221546\n",
       "8    13616  10306.361621\n",
       "9    11220  10951.711808\n",
       "10    5792  10822.641770\n",
       "11    4454  11467.991957\n",
       "12   18891  10048.221546\n",
       "13   11106  11080.781845\n",
       "14    2172  12113.342144\n",
       "15     476  11467.991957\n",
       "16    1762  10435.431658\n",
       "17   17297  10177.291583\n",
       "18    8407  10048.221546\n",
       "19   14821  10306.361621\n",
       "20   11621  10951.711808\n",
       "21     609  10693.571733\n",
       "22   21719  10951.711808\n",
       "23   18987  12113.342144\n",
       "24    7775  10435.431658\n",
       "25   12650   9790.081471\n",
       "26    3461  10306.361621\n",
       "27    1468  10693.571733\n",
       "28   21520  10822.641770\n",
       "29   16632  10951.711808"
      ]
     },
     "execution_count": 52,
     "metadata": {},
     "output_type": "execute_result"
    }
   ],
   "source": [
    "# Create a dataframe comparing the actual and predicted values of y.\n",
    "data = pd.DataFrame({'Actual': y_test.flatten(), 'Predicted': y_predicted.flatten()})\n",
    "data.head(30)"
   ]
  },
  {
   "cell_type": "markdown",
   "id": "ba139026",
   "metadata": {},
   "source": [
    "# 12 - Compare how the regression fits the training set"
   ]
  },
  {
   "cell_type": "code",
   "execution_count": 53,
   "id": "3709f42e",
   "metadata": {},
   "outputs": [],
   "source": [
    "# Predict.\n",
    "y_predicted_train = regression.predict(X_train) # This is predicting X_train!"
   ]
  },
  {
   "cell_type": "code",
   "execution_count": 54,
   "id": "8702cf34",
   "metadata": {},
   "outputs": [],
   "source": [
    "rmse = mean_squared_error(y_train, y_predicted_train)\n",
    "r2 = r2_score(y_train, y_predicted_train)"
   ]
  },
  {
   "cell_type": "code",
   "execution_count": 55,
   "id": "1da3155d",
   "metadata": {},
   "outputs": [
    {
     "name": "stdout",
     "output_type": "stream",
     "text": [
      "Slope: [[129.07003739]]\n",
      "Mean squared error:  107643452.06269047\n",
      "R2 score:  0.00311997094708083\n"
     ]
    }
   ],
   "source": [
    "print('Slope:' ,regression.coef_)\n",
    "print('Mean squared error: ', rmse)\n",
    "print('R2 score: ', r2)"
   ]
  },
  {
   "cell_type": "code",
   "execution_count": 56,
   "id": "37219af4",
   "metadata": {},
   "outputs": [
    {
     "data": {
      "image/png": "[encoded data removed]",
      "text/plain": [
       "<Figure size 432x288 with 1 Axes>"
      ]
     },
     "metadata": {
      "needs_background": "light"
     },
     "output_type": "display_data"
    }
   ],
   "source": [
    "# Visualizing the training set results.\n",
    "plot_test = plt\n",
    "plot_test.scatter(X_train, y_train, color='green', s = 15)\n",
    "plot_test.plot(X_train, y_predicted_train, color='red', linewidth =3)\n",
    "plot_test.title('Age vs Icetime (Train set)')\n",
    "plot_test.xlabel('Age')\n",
    "plot_test.ylabel('Icetime')\n",
    "plot_test.show()"
   ]
  },
  {
   "cell_type": "markdown",
   "id": "d7fa8222",
   "metadata": {},
   "source": [
    "# 13 - Final Thoughts"
   ]
  },
  {
   "cell_type": "markdown",
   "id": "c7035afc",
   "metadata": {},
   "source": [
    "My conclusion is that this is not the best method to predict ice time, at least not with a regression line. There will be other methods that will work better. I do think there is a relationship between the two variables but this doesn't show it."
   ]
  }
 ],
 "metadata": {
  "kernelspec": {
   "display_name": "Python 3 (ipykernel)",
   "language": "python",
   "name": "python3"
  },
  "language_info": {
   "codemirror_mode": {
    "name": "ipython",
    "version": 3
   },
   "file_extension": ".py",
   "mimetype": "text/x-python",
   "name": "python",
   "nbconvert_exporter": "python",
   "pygments_lexer": "ipython3",
   "version": "3.9.7"
  }
 },
 "nbformat": 4,
 "nbformat_minor": 5
}
