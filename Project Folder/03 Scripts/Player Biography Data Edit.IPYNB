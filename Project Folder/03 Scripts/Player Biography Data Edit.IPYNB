{
 "cells": [
  {
   "cell_type": "raw",
   "id": "e0a1f38d",
   "metadata": {},
   "source": [
    "This notebook contains the following:\n",
    "'#01 - Importing Libraries\n",
    "'#02 - Importing Data\n",
    "'#03 - Data Cleaning\n",
    "'#04 - Export DF\n",
    "'#05 - Import Clean DF\n",
    "'#06 - Check Clean DF"
    ]
  },
  {
   "cell_type": "markdown",
   "id": "e5c04269",
   "metadata": {},
   "source": [
    "# 01 - Importing Libraries"
   ]
  },
  {
   "cell_type": "code",
   "execution_count": 1,
   "id": "115f5d27",
   "metadata": {},
   "outputs": [],
   "source": [
    "# Import Libraries\n",
    "import pandas as pd\n",
    "import numpy as np\n",
    "import os"
   ]
  },
  {
   "cell_type": "markdown",
   "id": "74cb36a3",
   "metadata": {},
   "source": [
    "# 02 - Import Data Sets"
   ]
  },
  {
   "cell_type": "code",
   "execution_count": 2,
   "id": "5ea857ca",
   "metadata": {},
   "outputs": [],
   "source": [
    "# Import allPlayersLookup\n",
    "path = r'C:\\Users\\jakey\\OneDrive\\Documents\\Data Analytics\\CareerFoundry\\Data Immersion\\Achievement 6\\Project Folder'"
   ]
  },
  {
   "cell_type": "code",
   "execution_count": 3,
   "id": "311180e5",
   "metadata": {},
   "outputs": [],
   "source": [
    "df_playerbio = pd.read_csv(os.path.join(path, '02 Data', 'Original Data', 'allPlayersLookup.csv'), index_col = False)"
   ]
  },
  {
   "cell_type": "markdown",
   "id": "dc9ae0b7",
   "metadata": {},
   "source": [
    "# 03 - Check Import"
   ]
  },
  {
   "cell_type": "code",
   "execution_count": 4,
   "id": "37794255",
   "metadata": {},
   "outputs": [
    {
     "data": {
      "text/html": [
       "<div>\n",
       "<style scoped>\n",
       "    .dataframe tbody tr th:only-of-type {\n",
       "        vertical-align: middle;\n",
       "    }\n",
       "\n",
       "    .dataframe tbody tr th {\n",
       "        vertical-align: top;\n",
       "    }\n",
       "\n",
       "    .dataframe thead th {\n",
       "        text-align: right;\n",
       "    }\n",
       "</style>\n",
       "<table border=\"1\" class=\"dataframe\">\n",
       "  <thead>\n",
       "    <tr style=\"text-align: right;\">\n",
       "      <th></th>\n",
       "      <th>playerId</th>\n",
       "      <th>name</th>\n",
       "      <th>position</th>\n",
       "      <th>team</th>\n",
       "      <th>birthDate</th>\n",
       "      <th>weight</th>\n",
       "      <th>height</th>\n",
       "      <th>nationality</th>\n",
       "      <th>shootsCatches</th>\n",
       "      <th>primaryNumber</th>\n",
       "      <th>primaryPosition</th>\n",
       "    </tr>\n",
       "  </thead>\n",
       "  <tbody>\n",
       "    <tr>\n",
       "      <th>0</th>\n",
       "      <td>8478421</td>\n",
       "      <td>A.J. Greer</td>\n",
       "      <td>L</td>\n",
       "      <td>NJD</td>\n",
       "      <td>1996-12-14</td>\n",
       "      <td>210.0</td>\n",
       "      <td>6' 3\"</td>\n",
       "      <td>CAN</td>\n",
       "      <td>L</td>\n",
       "      <td>24.0</td>\n",
       "      <td>L</td>\n",
       "    </tr>\n",
       "    <tr>\n",
       "      <th>1</th>\n",
       "      <td>8477180</td>\n",
       "      <td>Aaron Dell</td>\n",
       "      <td>G</td>\n",
       "      <td>BUF</td>\n",
       "      <td>1989-05-04</td>\n",
       "      <td>205.0</td>\n",
       "      <td>6' 0\"</td>\n",
       "      <td>CAN</td>\n",
       "      <td>L</td>\n",
       "      <td>30.0</td>\n",
       "      <td>G</td>\n",
       "    </tr>\n",
       "    <tr>\n",
       "      <th>2</th>\n",
       "      <td>8465992</td>\n",
       "      <td>Aaron Downey</td>\n",
       "      <td>R</td>\n",
       "      <td>DET</td>\n",
       "      <td>1974-08-27</td>\n",
       "      <td>215.0</td>\n",
       "      <td>6' 1\"</td>\n",
       "      <td>CAN</td>\n",
       "      <td>R</td>\n",
       "      <td>44.0</td>\n",
       "      <td>R</td>\n",
       "    </tr>\n",
       "    <tr>\n",
       "      <th>3</th>\n",
       "      <td>8477932</td>\n",
       "      <td>Aaron Ekblad</td>\n",
       "      <td>D</td>\n",
       "      <td>FLA</td>\n",
       "      <td>1996-02-07</td>\n",
       "      <td>220.0</td>\n",
       "      <td>6' 4\"</td>\n",
       "      <td>CAN</td>\n",
       "      <td>R</td>\n",
       "      <td>5.0</td>\n",
       "      <td>D</td>\n",
       "    </tr>\n",
       "    <tr>\n",
       "      <th>4</th>\n",
       "      <td>8471451</td>\n",
       "      <td>Aaron Gagnon</td>\n",
       "      <td>C</td>\n",
       "      <td>WPG</td>\n",
       "      <td>1986-04-24</td>\n",
       "      <td>186.0</td>\n",
       "      <td>5' 11\"</td>\n",
       "      <td>CAN</td>\n",
       "      <td>R</td>\n",
       "      <td>21.0</td>\n",
       "      <td>C</td>\n",
       "    </tr>\n",
       "  </tbody>\n",
       "</table>\n",
       "</div>"
      ],
      "text/plain": [
       "   playerId          name position team   birthDate  weight  height  \\\n",
       "0   8478421    A.J. Greer        L  NJD  1996-12-14   210.0   6' 3\"   \n",
       "1   8477180    Aaron Dell        G  BUF  1989-05-04   205.0   6' 0\"   \n",
       "2   8465992  Aaron Downey        R  DET  1974-08-27   215.0   6' 1\"   \n",
       "3   8477932  Aaron Ekblad        D  FLA  1996-02-07   220.0   6' 4\"   \n",
       "4   8471451  Aaron Gagnon        C  WPG  1986-04-24   186.0  5' 11\"   \n",
       "\n",
       "  nationality shootsCatches  primaryNumber primaryPosition  \n",
       "0         CAN             L           24.0               L  \n",
       "1         CAN             L           30.0               G  \n",
       "2         CAN             R           44.0               R  \n",
       "3         CAN             R            5.0               D  \n",
       "4         CAN             R           21.0               C  "
      ]
     },
     "execution_count": 4,
     "metadata": {},
     "output_type": "execute_result"
    }
   ],
   "source": [
    "df_playerbio.head()"
   ]
  },
  {
   "cell_type": "code",
   "execution_count": 5,
   "id": "c030920b",
   "metadata": {},
   "outputs": [
    {
     "data": {
      "text/html": [
       "<div>\n",
       "<style scoped>\n",
       "    .dataframe tbody tr th:only-of-type {\n",
       "        vertical-align: middle;\n",
       "    }\n",
       "\n",
       "    .dataframe tbody tr th {\n",
       "        vertical-align: top;\n",
       "    }\n",
       "\n",
       "    .dataframe thead th {\n",
       "        text-align: right;\n",
       "    }\n",
       "</style>\n",
       "<table border=\"1\" class=\"dataframe\">\n",
       "  <thead>\n",
       "    <tr style=\"text-align: right;\">\n",
       "      <th></th>\n",
       "      <th>playerId</th>\n",
       "      <th>name</th>\n",
       "      <th>position</th>\n",
       "      <th>team</th>\n",
       "      <th>birthDate</th>\n",
       "      <th>weight</th>\n",
       "      <th>height</th>\n",
       "      <th>nationality</th>\n",
       "      <th>shootsCatches</th>\n",
       "      <th>primaryNumber</th>\n",
       "      <th>primaryPosition</th>\n",
       "    </tr>\n",
       "  </thead>\n",
       "  <tbody>\n",
       "    <tr>\n",
       "      <th>2909</th>\n",
       "      <td>8475876</td>\n",
       "      <td>Zane McIntyre</td>\n",
       "      <td>G</td>\n",
       "      <td>BOS</td>\n",
       "      <td>1992-08-20</td>\n",
       "      <td>206.0</td>\n",
       "      <td>6' 2\"</td>\n",
       "      <td>USA</td>\n",
       "      <td>L</td>\n",
       "      <td>31.0</td>\n",
       "      <td>G</td>\n",
       "    </tr>\n",
       "    <tr>\n",
       "      <th>2910</th>\n",
       "      <td>8469760</td>\n",
       "      <td>Zbynek Michalek</td>\n",
       "      <td>D</td>\n",
       "      <td>ARI</td>\n",
       "      <td>1982-12-23</td>\n",
       "      <td>210.0</td>\n",
       "      <td>6' 2\"</td>\n",
       "      <td>CZE</td>\n",
       "      <td>R</td>\n",
       "      <td>4.0</td>\n",
       "      <td>D</td>\n",
       "    </tr>\n",
       "    <tr>\n",
       "      <th>2911</th>\n",
       "      <td>8465009</td>\n",
       "      <td>Zdeno Chara</td>\n",
       "      <td>D</td>\n",
       "      <td>NYI</td>\n",
       "      <td>1977-03-18</td>\n",
       "      <td>250.0</td>\n",
       "      <td>6' 9\"</td>\n",
       "      <td>SVK</td>\n",
       "      <td>L</td>\n",
       "      <td>33.0</td>\n",
       "      <td>D</td>\n",
       "    </tr>\n",
       "    <tr>\n",
       "      <th>2912</th>\n",
       "      <td>8476878</td>\n",
       "      <td>Zemgus Girgensons</td>\n",
       "      <td>L</td>\n",
       "      <td>BUF</td>\n",
       "      <td>1994-01-05</td>\n",
       "      <td>211.0</td>\n",
       "      <td>6' 2\"</td>\n",
       "      <td>LVA</td>\n",
       "      <td>L</td>\n",
       "      <td>28.0</td>\n",
       "      <td>C</td>\n",
       "    </tr>\n",
       "    <tr>\n",
       "      <th>2913</th>\n",
       "      <td>8469820</td>\n",
       "      <td>Zenon Konopka</td>\n",
       "      <td>C</td>\n",
       "      <td>BUF</td>\n",
       "      <td>1981-01-02</td>\n",
       "      <td>213.0</td>\n",
       "      <td>6' 0\"</td>\n",
       "      <td>CAN</td>\n",
       "      <td>L</td>\n",
       "      <td>24.0</td>\n",
       "      <td>C</td>\n",
       "    </tr>\n",
       "  </tbody>\n",
       "</table>\n",
       "</div>"
      ],
      "text/plain": [
       "      playerId               name position team   birthDate  weight height  \\\n",
       "2909   8475876      Zane McIntyre        G  BOS  1992-08-20   206.0  6' 2\"   \n",
       "2910   8469760    Zbynek Michalek        D  ARI  1982-12-23   210.0  6' 2\"   \n",
       "2911   8465009        Zdeno Chara        D  NYI  1977-03-18   250.0  6' 9\"   \n",
       "2912   8476878  Zemgus Girgensons        L  BUF  1994-01-05   211.0  6' 2\"   \n",
       "2913   8469820      Zenon Konopka        C  BUF  1981-01-02   213.0  6' 0\"   \n",
       "\n",
       "     nationality shootsCatches  primaryNumber primaryPosition  \n",
       "2909         USA             L           31.0               G  \n",
       "2910         CZE             R            4.0               D  \n",
       "2911         SVK             L           33.0               D  \n",
       "2912         LVA             L           28.0               C  \n",
       "2913         CAN             L           24.0               C  "
      ]
     },
     "execution_count": 5,
     "metadata": {},
     "output_type": "execute_result"
    }
   ],
   "source": [
    "df_playerbio.tail()"
   ]
  },
  {
   "cell_type": "code",
   "execution_count": 6,
   "id": "230873d3",
   "metadata": {},
   "outputs": [
    {
     "data": {
      "text/plain": [
       "<bound method DataFrame.info of       playerId               name position team   birthDate  weight  height  \\\n",
       "0      8478421         A.J. Greer        L  NJD  1996-12-14   210.0   6' 3\"   \n",
       "1      8477180         Aaron Dell        G  BUF  1989-05-04   205.0   6' 0\"   \n",
       "2      8465992       Aaron Downey        R  DET  1974-08-27   215.0   6' 1\"   \n",
       "3      8477932       Aaron Ekblad        D  FLA  1996-02-07   220.0   6' 4\"   \n",
       "4      8471451       Aaron Gagnon        C  WPG  1986-04-24   186.0  5' 11\"   \n",
       "...        ...                ...      ...  ...         ...     ...     ...   \n",
       "2909   8475876      Zane McIntyre        G  BOS  1992-08-20   206.0   6' 2\"   \n",
       "2910   8469760    Zbynek Michalek        D  ARI  1982-12-23   210.0   6' 2\"   \n",
       "2911   8465009        Zdeno Chara        D  NYI  1977-03-18   250.0   6' 9\"   \n",
       "2912   8476878  Zemgus Girgensons        L  BUF  1994-01-05   211.0   6' 2\"   \n",
       "2913   8469820      Zenon Konopka        C  BUF  1981-01-02   213.0   6' 0\"   \n",
       "\n",
       "     nationality shootsCatches  primaryNumber primaryPosition  \n",
       "0            CAN             L           24.0               L  \n",
       "1            CAN             L           30.0               G  \n",
       "2            CAN             R           44.0               R  \n",
       "3            CAN             R            5.0               D  \n",
       "4            CAN             R           21.0               C  \n",
       "...          ...           ...            ...             ...  \n",
       "2909         USA             L           31.0               G  \n",
       "2910         CZE             R            4.0               D  \n",
       "2911         SVK             L           33.0               D  \n",
       "2912         LVA             L           28.0               C  \n",
       "2913         CAN             L           24.0               C  \n",
       "\n",
       "[2914 rows x 11 columns]>"
      ]
     },
     "execution_count": 6,
     "metadata": {},
     "output_type": "execute_result"
    }
   ],
   "source": [
    "df_playerbio.info"
   ]
  },
  {
   "cell_type": "code",
   "execution_count": 8,
   "id": "9dee87aa",
   "metadata": {},
   "outputs": [
    {
     "data": {
      "text/html": [
       "<div>\n",
       "<style scoped>\n",
       "    .dataframe tbody tr th:only-of-type {\n",
       "        vertical-align: middle;\n",
       "    }\n",
       "\n",
       "    .dataframe tbody tr th {\n",
       "        vertical-align: top;\n",
       "    }\n",
       "\n",
       "    .dataframe thead th {\n",
       "        text-align: right;\n",
       "    }\n",
       "</style>\n",
       "<table border=\"1\" class=\"dataframe\">\n",
       "  <thead>\n",
       "    <tr style=\"text-align: right;\">\n",
       "      <th></th>\n",
       "      <th>playerId</th>\n",
       "      <th>weight</th>\n",
       "      <th>primaryNumber</th>\n",
       "    </tr>\n",
       "  </thead>\n",
       "  <tbody>\n",
       "    <tr>\n",
       "      <th>count</th>\n",
       "      <td>2.914000e+03</td>\n",
       "      <td>2829.000000</td>\n",
       "      <td>2829.000000</td>\n",
       "    </tr>\n",
       "    <tr>\n",
       "      <th>mean</th>\n",
       "      <td>8.474080e+06</td>\n",
       "      <td>199.435490</td>\n",
       "      <td>36.775539</td>\n",
       "    </tr>\n",
       "    <tr>\n",
       "      <th>std</th>\n",
       "      <td>5.725437e+03</td>\n",
       "      <td>16.013646</td>\n",
       "      <td>23.419069</td>\n",
       "    </tr>\n",
       "    <tr>\n",
       "      <th>min</th>\n",
       "      <td>8.445550e+06</td>\n",
       "      <td>140.000000</td>\n",
       "      <td>1.000000</td>\n",
       "    </tr>\n",
       "    <tr>\n",
       "      <th>25%</th>\n",
       "      <td>8.470878e+06</td>\n",
       "      <td>189.000000</td>\n",
       "      <td>18.000000</td>\n",
       "    </tr>\n",
       "    <tr>\n",
       "      <th>50%</th>\n",
       "      <td>8.475222e+06</td>\n",
       "      <td>199.000000</td>\n",
       "      <td>33.000000</td>\n",
       "    </tr>\n",
       "    <tr>\n",
       "      <th>75%</th>\n",
       "      <td>8.478002e+06</td>\n",
       "      <td>210.000000</td>\n",
       "      <td>51.000000</td>\n",
       "    </tr>\n",
       "    <tr>\n",
       "      <th>max</th>\n",
       "      <td>8.483570e+06</td>\n",
       "      <td>265.000000</td>\n",
       "      <td>98.000000</td>\n",
       "    </tr>\n",
       "  </tbody>\n",
       "</table>\n",
       "</div>"
      ],
      "text/plain": [
       "           playerId       weight  primaryNumber\n",
       "count  2.914000e+03  2829.000000    2829.000000\n",
       "mean   8.474080e+06   199.435490      36.775539\n",
       "std    5.725437e+03    16.013646      23.419069\n",
       "min    8.445550e+06   140.000000       1.000000\n",
       "25%    8.470878e+06   189.000000      18.000000\n",
       "50%    8.475222e+06   199.000000      33.000000\n",
       "75%    8.478002e+06   210.000000      51.000000\n",
       "max    8.483570e+06   265.000000      98.000000"
      ]
     },
     "execution_count": 8,
     "metadata": {},
     "output_type": "execute_result"
    }
   ],
   "source": [
    "df_playerbio.describe()"
   ]
  },
  {
   "cell_type": "code",
   "execution_count": 10,
   "id": "0b5a1e95",
   "metadata": {},
   "outputs": [
    {
     "data": {
      "text/plain": [
       "2914"
      ]
     },
     "execution_count": 10,
     "metadata": {},
     "output_type": "execute_result"
    }
   ],
   "source": [
    "df_playerbio['name'].count()"
   ]
  },
  {
   "cell_type": "code",
   "execution_count": 11,
   "id": "f0ce014c",
   "metadata": {},
   "outputs": [
    {
     "data": {
      "text/plain": [
       "2914"
      ]
     },
     "execution_count": 11,
     "metadata": {},
     "output_type": "execute_result"
    }
   ],
   "source": [
    "df_playerbio['position'].count()"
   ]
  },
  {
   "cell_type": "code",
   "execution_count": 12,
   "id": "9cb746b6",
   "metadata": {},
   "outputs": [
    {
     "data": {
      "text/plain": [
       "2914"
      ]
     },
     "execution_count": 12,
     "metadata": {},
     "output_type": "execute_result"
    }
   ],
   "source": [
    "df_playerbio['team'].count()"
   ]
  },
  {
   "cell_type": "code",
   "execution_count": 14,
   "id": "93b6a5fc",
   "metadata": {},
   "outputs": [
    {
     "data": {
      "text/plain": [
       "2829"
      ]
     },
     "execution_count": 14,
     "metadata": {},
     "output_type": "execute_result"
    }
   ],
   "source": [
    "df_playerbio['birthDate'].count()"
   ]
  },
  {
   "cell_type": "code",
   "execution_count": 15,
   "id": "d06afbf2",
   "metadata": {},
   "outputs": [
    {
     "data": {
      "text/plain": [
       "2829"
      ]
     },
     "execution_count": 15,
     "metadata": {},
     "output_type": "execute_result"
    }
   ],
   "source": [
    "df_playerbio['height'].count()"
   ]
  },
  {
   "cell_type": "code",
   "execution_count": 16,
   "id": "84540878",
   "metadata": {},
   "outputs": [
    {
     "data": {
      "text/plain": [
       "2829"
      ]
     },
     "execution_count": 16,
     "metadata": {},
     "output_type": "execute_result"
    }
   ],
   "source": [
    "df_playerbio['nationality'].count()"
   ]
  },
  {
   "cell_type": "code",
   "execution_count": 17,
   "id": "2ea7e2c1",
   "metadata": {},
   "outputs": [
    {
     "data": {
      "text/plain": [
       "2829"
      ]
     },
     "execution_count": 17,
     "metadata": {},
     "output_type": "execute_result"
    }
   ],
   "source": [
    "df_playerbio['shootsCatches'].count()"
   ]
  },
  {
   "cell_type": "markdown",
   "id": "5af480c7",
   "metadata": {},
   "source": [
    "# 04 - Export DF"
   ]
  },
  {
   "cell_type": "code",
   "execution_count": 18,
   "id": "0cc24d67",
   "metadata": {},
   "outputs": [],
   "source": [
    "df_playerbio.to_csv(os.path.join(path, '02 Data','Prepared Data', 'playerbio.csv'))"
   ]
  },
  {
   "cell_type": "markdown",
   "id": "c1824789",
   "metadata": {},
   "source": [
    "# 05 - Import Clean DF"
   ]
  },
  {
   "cell_type": "code",
   "execution_count": 19,
   "id": "253f0c4d",
   "metadata": {},
   "outputs": [],
   "source": [
    "df_playerbio_clean = pd.read_csv(os.path.join(path, '02 Data', 'Prepared Data', 'playerbio.csv'), index_col = False)"
   ]
  },
  {
   "cell_type": "markdown",
   "id": "9c9c31b0",
   "metadata": {},
   "source": [
    "# 06 - Check Clean DF"
   ]
  },
  {
   "cell_type": "code",
   "execution_count": 20,
   "id": "bb8d9739",
   "metadata": {},
   "outputs": [
    {
     "data": {
      "text/html": [
       "<div>\n",
       "<style scoped>\n",
       "    .dataframe tbody tr th:only-of-type {\n",
       "        vertical-align: middle;\n",
       "    }\n",
       "\n",
       "    .dataframe tbody tr th {\n",
       "        vertical-align: top;\n",
       "    }\n",
       "\n",
       "    .dataframe thead th {\n",
       "        text-align: right;\n",
       "    }\n",
       "</style>\n",
       "<table border=\"1\" class=\"dataframe\">\n",
       "  <thead>\n",
       "    <tr style=\"text-align: right;\">\n",
       "      <th></th>\n",
       "      <th>playerId</th>\n",
       "      <th>First Name</th>\n",
       "      <th>Last Name</th>\n",
       "      <th>position</th>\n",
       "      <th>team</th>\n",
       "      <th>year</th>\n",
       "      <th>month</th>\n",
       "      <th>day</th>\n",
       "      <th>weight</th>\n",
       "      <th>height</th>\n",
       "      <th>nationality</th>\n",
       "      <th>shootsCatches</th>\n",
       "      <th>primaryNumber</th>\n",
       "    </tr>\n",
       "  </thead>\n",
       "  <tbody>\n",
       "    <tr>\n",
       "      <th>0</th>\n",
       "      <td>8478421</td>\n",
       "      <td>A.J.</td>\n",
       "      <td>Greer</td>\n",
       "      <td>L</td>\n",
       "      <td>NJD</td>\n",
       "      <td>1996</td>\n",
       "      <td>12</td>\n",
       "      <td>14</td>\n",
       "      <td>210</td>\n",
       "      <td>75</td>\n",
       "      <td>CAN</td>\n",
       "      <td>L</td>\n",
       "      <td>24</td>\n",
       "    </tr>\n",
       "    <tr>\n",
       "      <th>1</th>\n",
       "      <td>8477180</td>\n",
       "      <td>Aaron</td>\n",
       "      <td>Dell</td>\n",
       "      <td>G</td>\n",
       "      <td>BUF</td>\n",
       "      <td>1989</td>\n",
       "      <td>5</td>\n",
       "      <td>4</td>\n",
       "      <td>205</td>\n",
       "      <td>72</td>\n",
       "      <td>CAN</td>\n",
       "      <td>L</td>\n",
       "      <td>30</td>\n",
       "    </tr>\n",
       "    <tr>\n",
       "      <th>2</th>\n",
       "      <td>8465992</td>\n",
       "      <td>Aaron</td>\n",
       "      <td>Downey</td>\n",
       "      <td>R</td>\n",
       "      <td>DET</td>\n",
       "      <td>1974</td>\n",
       "      <td>8</td>\n",
       "      <td>27</td>\n",
       "      <td>215</td>\n",
       "      <td>73</td>\n",
       "      <td>CAN</td>\n",
       "      <td>R</td>\n",
       "      <td>44</td>\n",
       "    </tr>\n",
       "    <tr>\n",
       "      <th>3</th>\n",
       "      <td>8477932</td>\n",
       "      <td>Aaron</td>\n",
       "      <td>Ekblad</td>\n",
       "      <td>D</td>\n",
       "      <td>FLA</td>\n",
       "      <td>1996</td>\n",
       "      <td>2</td>\n",
       "      <td>7</td>\n",
       "      <td>220</td>\n",
       "      <td>76</td>\n",
       "      <td>CAN</td>\n",
       "      <td>R</td>\n",
       "      <td>5</td>\n",
       "    </tr>\n",
       "    <tr>\n",
       "      <th>4</th>\n",
       "      <td>8471451</td>\n",
       "      <td>Aaron</td>\n",
       "      <td>Gagnon</td>\n",
       "      <td>C</td>\n",
       "      <td>WPG</td>\n",
       "      <td>1986</td>\n",
       "      <td>4</td>\n",
       "      <td>24</td>\n",
       "      <td>186</td>\n",
       "      <td>71</td>\n",
       "      <td>CAN</td>\n",
       "      <td>R</td>\n",
       "      <td>21</td>\n",
       "    </tr>\n",
       "  </tbody>\n",
       "</table>\n",
       "</div>"
      ],
      "text/plain": [
       "   playerId First Name Last Name position team  year  month  day  weight  \\\n",
       "0   8478421       A.J.     Greer        L  NJD  1996     12   14     210   \n",
       "1   8477180      Aaron      Dell        G  BUF  1989      5    4     205   \n",
       "2   8465992      Aaron    Downey        R  DET  1974      8   27     215   \n",
       "3   8477932      Aaron    Ekblad        D  FLA  1996      2    7     220   \n",
       "4   8471451      Aaron    Gagnon        C  WPG  1986      4   24     186   \n",
       "\n",
       "   height nationality shootsCatches  primaryNumber  \n",
       "0      75         CAN             L             24  \n",
       "1      72         CAN             L             30  \n",
       "2      73         CAN             R             44  \n",
       "3      76         CAN             R              5  \n",
       "4      71         CAN             R             21  "
      ]
     },
     "execution_count": 20,
     "metadata": {},
     "output_type": "execute_result"
    }
   ],
   "source": [
    "df_playerbio_clean.head()"
   ]
  },
  {
   "cell_type": "code",
   "execution_count": 21,
   "id": "fe3bfceb",
   "metadata": {},
   "outputs": [
    {
     "data": {
      "text/html": [
       "<div>\n",
       "<style scoped>\n",
       "    .dataframe tbody tr th:only-of-type {\n",
       "        vertical-align: middle;\n",
       "    }\n",
       "\n",
       "    .dataframe tbody tr th {\n",
       "        vertical-align: top;\n",
       "    }\n",
       "\n",
       "    .dataframe thead th {\n",
       "        text-align: right;\n",
       "    }\n",
       "</style>\n",
       "<table border=\"1\" class=\"dataframe\">\n",
       "  <thead>\n",
       "    <tr style=\"text-align: right;\">\n",
       "      <th></th>\n",
       "      <th>playerId</th>\n",
       "      <th>year</th>\n",
       "      <th>month</th>\n",
       "      <th>day</th>\n",
       "      <th>weight</th>\n",
       "      <th>height</th>\n",
       "      <th>primaryNumber</th>\n",
       "    </tr>\n",
       "  </thead>\n",
       "  <tbody>\n",
       "    <tr>\n",
       "      <th>count</th>\n",
       "      <td>2.914000e+03</td>\n",
       "      <td>2914.000000</td>\n",
       "      <td>2914.000000</td>\n",
       "      <td>2914.000000</td>\n",
       "      <td>2914.000000</td>\n",
       "      <td>2914.000000</td>\n",
       "      <td>2914.000000</td>\n",
       "    </tr>\n",
       "    <tr>\n",
       "      <th>mean</th>\n",
       "      <td>8.474080e+06</td>\n",
       "      <td>1988.880577</td>\n",
       "      <td>5.880577</td>\n",
       "      <td>15.580302</td>\n",
       "      <td>199.364791</td>\n",
       "      <td>73.152368</td>\n",
       "      <td>36.914894</td>\n",
       "    </tr>\n",
       "    <tr>\n",
       "      <th>std</th>\n",
       "      <td>5.725437e+03</td>\n",
       "      <td>7.227566</td>\n",
       "      <td>3.390504</td>\n",
       "      <td>8.896007</td>\n",
       "      <td>16.002180</td>\n",
       "      <td>2.171686</td>\n",
       "      <td>23.354555</td>\n",
       "    </tr>\n",
       "    <tr>\n",
       "      <th>min</th>\n",
       "      <td>8.445550e+06</td>\n",
       "      <td>1962.000000</td>\n",
       "      <td>1.000000</td>\n",
       "      <td>1.000000</td>\n",
       "      <td>140.000000</td>\n",
       "      <td>64.000000</td>\n",
       "      <td>1.000000</td>\n",
       "    </tr>\n",
       "    <tr>\n",
       "      <th>25%</th>\n",
       "      <td>8.470878e+06</td>\n",
       "      <td>1984.000000</td>\n",
       "      <td>3.000000</td>\n",
       "      <td>8.000000</td>\n",
       "      <td>189.000000</td>\n",
       "      <td>72.000000</td>\n",
       "      <td>18.000000</td>\n",
       "    </tr>\n",
       "    <tr>\n",
       "      <th>50%</th>\n",
       "      <td>8.475222e+06</td>\n",
       "      <td>1990.000000</td>\n",
       "      <td>6.000000</td>\n",
       "      <td>15.000000</td>\n",
       "      <td>199.000000</td>\n",
       "      <td>73.000000</td>\n",
       "      <td>33.000000</td>\n",
       "    </tr>\n",
       "    <tr>\n",
       "      <th>75%</th>\n",
       "      <td>8.478002e+06</td>\n",
       "      <td>1994.750000</td>\n",
       "      <td>9.000000</td>\n",
       "      <td>23.000000</td>\n",
       "      <td>210.000000</td>\n",
       "      <td>75.000000</td>\n",
       "      <td>51.000000</td>\n",
       "    </tr>\n",
       "    <tr>\n",
       "      <th>max</th>\n",
       "      <td>8.483570e+06</td>\n",
       "      <td>2003.000000</td>\n",
       "      <td>12.000000</td>\n",
       "      <td>31.000000</td>\n",
       "      <td>265.000000</td>\n",
       "      <td>81.000000</td>\n",
       "      <td>98.000000</td>\n",
       "    </tr>\n",
       "  </tbody>\n",
       "</table>\n",
       "</div>"
      ],
      "text/plain": [
       "           playerId         year        month          day       weight  \\\n",
       "count  2.914000e+03  2914.000000  2914.000000  2914.000000  2914.000000   \n",
       "mean   8.474080e+06  1988.880577     5.880577    15.580302   199.364791   \n",
       "std    5.725437e+03     7.227566     3.390504     8.896007    16.002180   \n",
       "min    8.445550e+06  1962.000000     1.000000     1.000000   140.000000   \n",
       "25%    8.470878e+06  1984.000000     3.000000     8.000000   189.000000   \n",
       "50%    8.475222e+06  1990.000000     6.000000    15.000000   199.000000   \n",
       "75%    8.478002e+06  1994.750000     9.000000    23.000000   210.000000   \n",
       "max    8.483570e+06  2003.000000    12.000000    31.000000   265.000000   \n",
       "\n",
       "            height  primaryNumber  \n",
       "count  2914.000000    2914.000000  \n",
       "mean     73.152368      36.914894  \n",
       "std       2.171686      23.354555  \n",
       "min      64.000000       1.000000  \n",
       "25%      72.000000      18.000000  \n",
       "50%      73.000000      33.000000  \n",
       "75%      75.000000      51.000000  \n",
       "max      81.000000      98.000000  "
      ]
     },
     "execution_count": 21,
     "metadata": {},
     "output_type": "execute_result"
    }
   ],
   "source": [
    "df_playerbio_clean.describe()"
   ]
  },
  {
   "cell_type": "code",
   "execution_count": 22,
   "id": "4e2c4be0",
   "metadata": {},
   "outputs": [
    {
     "data": {
      "text/plain": [
       "playerId         2914\n",
       "First Name       2914\n",
       "Last Name        2914\n",
       "position         2914\n",
       "team             2914\n",
       "year             2914\n",
       "month            2914\n",
       "day              2914\n",
       "weight           2914\n",
       "height           2914\n",
       "nationality      2914\n",
       "shootsCatches    2914\n",
       "primaryNumber    2914\n",
       "dtype: int64"
      ]
     },
     "execution_count": 22,
     "metadata": {},
     "output_type": "execute_result"
    }
   ],
   "source": [
    "df_playerbio_clean.count()"
   ]
  },
  {
   "cell_type": "code",
   "execution_count": null,
   "id": "77c066a9",
   "metadata": {},
   "outputs": [],
   "source": []
  }
 ],
 "metadata": {
  "kernelspec": {
   "display_name": "Python 3 (ipykernel)",
   "language": "python",
   "name": "python3"
  },
  "language_info": {
   "codemirror_mode": {
    "name": "ipython",
    "version": 3
   },
   "file_extension": ".py",
   "mimetype": "text/x-python",
   "name": "python",
   "nbconvert_exporter": "python",
   "pygments_lexer": "ipython3",
   "version": "3.9.7"
  }
 },
 "nbformat": 4,
 "nbformat_minor": 5
}
